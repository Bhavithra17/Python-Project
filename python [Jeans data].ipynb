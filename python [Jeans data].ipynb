{
 "cells": [
  {
   "cell_type": "code",
   "execution_count": 10,
   "metadata": {},
   "outputs": [],
   "source": [
    "import pandas as pd\n",
    "import numpy as np\n",
    "import matplotlib.pyplot as plt\n",
    "import seaborn as sns"
   ]
  },
  {
   "cell_type": "code",
   "execution_count": 11,
   "metadata": {},
   "outputs": [
    {
     "data": {
      "text/html": [
       "<div>\n",
       "<style scoped>\n",
       "    .dataframe tbody tr th:only-of-type {\n",
       "        vertical-align: middle;\n",
       "    }\n",
       "\n",
       "    .dataframe tbody tr th {\n",
       "        vertical-align: top;\n",
       "    }\n",
       "\n",
       "    .dataframe thead th {\n",
       "        text-align: right;\n",
       "    }\n",
       "</style>\n",
       "<table border=\"1\" class=\"dataframe\">\n",
       "  <thead>\n",
       "    <tr style=\"text-align: right;\">\n",
       "      <th></th>\n",
       "      <th>name</th>\n",
       "      <th>main_category</th>\n",
       "      <th>sub_category</th>\n",
       "      <th>image</th>\n",
       "      <th>link</th>\n",
       "      <th>ratings</th>\n",
       "      <th>no_of_ratings</th>\n",
       "      <th>discount_price</th>\n",
       "      <th>actual_price</th>\n",
       "    </tr>\n",
       "  </thead>\n",
       "  <tbody>\n",
       "    <tr>\n",
       "      <th>0</th>\n",
       "      <td>Levi's Men's 511 Styled Slim Fit Jeans</td>\n",
       "      <td>men's clothing</td>\n",
       "      <td>Jeans</td>\n",
       "      <td>https://m.media-amazon.com/images/I/61squlDBu2...</td>\n",
       "      <td>https://www.amazon.in/Levis-Mens-Jeans-18298-1...</td>\n",
       "      <td>4.0</td>\n",
       "      <td>285</td>\n",
       "      <td>₹1,449</td>\n",
       "      <td>₹2,899</td>\n",
       "    </tr>\n",
       "    <tr>\n",
       "      <th>1</th>\n",
       "      <td>Urbano Fashion Men's Slim Fit Washed Jeans Str...</td>\n",
       "      <td>men's clothing</td>\n",
       "      <td>Jeans</td>\n",
       "      <td>https://m.media-amazon.com/images/I/61EJxytnV5...</td>\n",
       "      <td>https://www.amazon.in/Urbano-Fashion-Mens-Jean...</td>\n",
       "      <td>3.7</td>\n",
       "      <td>7,336</td>\n",
       "      <td>₹606</td>\n",
       "      <td>₹1,199</td>\n",
       "    </tr>\n",
       "    <tr>\n",
       "      <th>2</th>\n",
       "      <td>Ben Martin Men's Relaxed Fit Jeans</td>\n",
       "      <td>men's clothing</td>\n",
       "      <td>Jeans</td>\n",
       "      <td>https://m.media-amazon.com/images/I/616xchp1EC...</td>\n",
       "      <td>https://www.amazon.in/Ben-Martin-Relaxed-BMW-J...</td>\n",
       "      <td>3.6</td>\n",
       "      <td>34,754</td>\n",
       "      <td>₹599</td>\n",
       "      <td>₹2,499</td>\n",
       "    </tr>\n",
       "    <tr>\n",
       "      <th>3</th>\n",
       "      <td>Spykar Men's Super Skinny Fit Jeans</td>\n",
       "      <td>men's clothing</td>\n",
       "      <td>Jeans</td>\n",
       "      <td>https://m.media-amazon.com/images/I/61x6ta8Dhk...</td>\n",
       "      <td>https://www.amazon.in/Spykar-Super-Skinny-SSYT...</td>\n",
       "      <td>4.2</td>\n",
       "      <td>13</td>\n",
       "      <td>₹729</td>\n",
       "      <td>₹2,699</td>\n",
       "    </tr>\n",
       "    <tr>\n",
       "      <th>4</th>\n",
       "      <td>Levi's Men Jeans</td>\n",
       "      <td>men's clothing</td>\n",
       "      <td>Jeans</td>\n",
       "      <td>https://m.media-amazon.com/images/I/811awEFjbN...</td>\n",
       "      <td>https://www.amazon.in/Levis-Mens-Jeans-18298-1...</td>\n",
       "      <td>3.5</td>\n",
       "      <td>34</td>\n",
       "      <td>₹1,289</td>\n",
       "      <td>₹3,999</td>\n",
       "    </tr>\n",
       "    <tr>\n",
       "      <th>...</th>\n",
       "      <td>...</td>\n",
       "      <td>...</td>\n",
       "      <td>...</td>\n",
       "      <td>...</td>\n",
       "      <td>...</td>\n",
       "      <td>...</td>\n",
       "      <td>...</td>\n",
       "      <td>...</td>\n",
       "      <td>...</td>\n",
       "    </tr>\n",
       "    <tr>\n",
       "      <th>19195</th>\n",
       "      <td>Fashionable Mens Slim Fit Denim Jeans</td>\n",
       "      <td>men's clothing</td>\n",
       "      <td>Jeans</td>\n",
       "      <td>https://m.media-amazon.com/images/I/51X0mAF3Zp...</td>\n",
       "      <td>https://www.amazon.in/Fashionable-Mens-Denim-J...</td>\n",
       "      <td>NaN</td>\n",
       "      <td>NaN</td>\n",
       "      <td>NaN</td>\n",
       "      <td>NaN</td>\n",
       "    </tr>\n",
       "    <tr>\n",
       "      <th>19196</th>\n",
       "      <td>Malik Singh JASBEER Singh MEGA MART Men's Slim...</td>\n",
       "      <td>men's clothing</td>\n",
       "      <td>Jeans</td>\n",
       "      <td>https://m.media-amazon.com/images/I/41J1Q0iwzC...</td>\n",
       "      <td>https://www.amazon.in/Malik-Singh-JASBEER-Deni...</td>\n",
       "      <td>NaN</td>\n",
       "      <td>NaN</td>\n",
       "      <td>₹1,799</td>\n",
       "      <td>₹1,999</td>\n",
       "    </tr>\n",
       "    <tr>\n",
       "      <th>19197</th>\n",
       "      <td>Regular Fit Jeans Blue</td>\n",
       "      <td>men's clothing</td>\n",
       "      <td>Jeans</td>\n",
       "      <td>https://m.media-amazon.com/images/I/41fPsqSK1z...</td>\n",
       "      <td>https://www.amazon.in/Generic-Regular-Fit-Jean...</td>\n",
       "      <td>NaN</td>\n",
       "      <td>NaN</td>\n",
       "      <td>₹1,799</td>\n",
       "      <td>₹1,999</td>\n",
       "    </tr>\n",
       "    <tr>\n",
       "      <th>19198</th>\n",
       "      <td>Men's Slim Fit Denim Jeans Blue</td>\n",
       "      <td>men's clothing</td>\n",
       "      <td>Jeans</td>\n",
       "      <td>https://m.media-amazon.com/images/I/41J1Q0iwzC...</td>\n",
       "      <td>https://www.amazon.in/Mens-Slim-Denim-Jeans-Bl...</td>\n",
       "      <td>NaN</td>\n",
       "      <td>NaN</td>\n",
       "      <td>₹1,799</td>\n",
       "      <td>₹1,999</td>\n",
       "    </tr>\n",
       "    <tr>\n",
       "      <th>19199</th>\n",
       "      <td>Men Navy Blue Solid Slim Fit Jeans</td>\n",
       "      <td>men's clothing</td>\n",
       "      <td>Jeans</td>\n",
       "      <td>https://m.media-amazon.com/images/I/41zpHvVzQ0...</td>\n",
       "      <td>https://www.amazon.in/Navy-Blue-Solid-Slim-Jea...</td>\n",
       "      <td>NaN</td>\n",
       "      <td>NaN</td>\n",
       "      <td>₹1,799</td>\n",
       "      <td>₹1,999</td>\n",
       "    </tr>\n",
       "  </tbody>\n",
       "</table>\n",
       "<p>19200 rows × 9 columns</p>\n",
       "</div>"
      ],
      "text/plain": [
       "                                                    name   main_category  \\\n",
       "0                 Levi's Men's 511 Styled Slim Fit Jeans  men's clothing   \n",
       "1      Urbano Fashion Men's Slim Fit Washed Jeans Str...  men's clothing   \n",
       "2                     Ben Martin Men's Relaxed Fit Jeans  men's clothing   \n",
       "3                    Spykar Men's Super Skinny Fit Jeans  men's clothing   \n",
       "4                                       Levi's Men Jeans  men's clothing   \n",
       "...                                                  ...             ...   \n",
       "19195              Fashionable Mens Slim Fit Denim Jeans  men's clothing   \n",
       "19196  Malik Singh JASBEER Singh MEGA MART Men's Slim...  men's clothing   \n",
       "19197                             Regular Fit Jeans Blue  men's clothing   \n",
       "19198                    Men's Slim Fit Denim Jeans Blue  men's clothing   \n",
       "19199                 Men Navy Blue Solid Slim Fit Jeans  men's clothing   \n",
       "\n",
       "      sub_category                                              image  \\\n",
       "0            Jeans  https://m.media-amazon.com/images/I/61squlDBu2...   \n",
       "1            Jeans  https://m.media-amazon.com/images/I/61EJxytnV5...   \n",
       "2            Jeans  https://m.media-amazon.com/images/I/616xchp1EC...   \n",
       "3            Jeans  https://m.media-amazon.com/images/I/61x6ta8Dhk...   \n",
       "4            Jeans  https://m.media-amazon.com/images/I/811awEFjbN...   \n",
       "...            ...                                                ...   \n",
       "19195        Jeans  https://m.media-amazon.com/images/I/51X0mAF3Zp...   \n",
       "19196        Jeans  https://m.media-amazon.com/images/I/41J1Q0iwzC...   \n",
       "19197        Jeans  https://m.media-amazon.com/images/I/41fPsqSK1z...   \n",
       "19198        Jeans  https://m.media-amazon.com/images/I/41J1Q0iwzC...   \n",
       "19199        Jeans  https://m.media-amazon.com/images/I/41zpHvVzQ0...   \n",
       "\n",
       "                                                    link ratings  \\\n",
       "0      https://www.amazon.in/Levis-Mens-Jeans-18298-1...     4.0   \n",
       "1      https://www.amazon.in/Urbano-Fashion-Mens-Jean...     3.7   \n",
       "2      https://www.amazon.in/Ben-Martin-Relaxed-BMW-J...     3.6   \n",
       "3      https://www.amazon.in/Spykar-Super-Skinny-SSYT...     4.2   \n",
       "4      https://www.amazon.in/Levis-Mens-Jeans-18298-1...     3.5   \n",
       "...                                                  ...     ...   \n",
       "19195  https://www.amazon.in/Fashionable-Mens-Denim-J...     NaN   \n",
       "19196  https://www.amazon.in/Malik-Singh-JASBEER-Deni...     NaN   \n",
       "19197  https://www.amazon.in/Generic-Regular-Fit-Jean...     NaN   \n",
       "19198  https://www.amazon.in/Mens-Slim-Denim-Jeans-Bl...     NaN   \n",
       "19199  https://www.amazon.in/Navy-Blue-Solid-Slim-Jea...     NaN   \n",
       "\n",
       "      no_of_ratings discount_price actual_price  \n",
       "0               285         ₹1,449       ₹2,899  \n",
       "1             7,336           ₹606       ₹1,199  \n",
       "2            34,754           ₹599       ₹2,499  \n",
       "3                13           ₹729       ₹2,699  \n",
       "4                34         ₹1,289       ₹3,999  \n",
       "...             ...            ...          ...  \n",
       "19195           NaN            NaN          NaN  \n",
       "19196           NaN         ₹1,799       ₹1,999  \n",
       "19197           NaN         ₹1,799       ₹1,999  \n",
       "19198           NaN         ₹1,799       ₹1,999  \n",
       "19199           NaN         ₹1,799       ₹1,999  \n",
       "\n",
       "[19200 rows x 9 columns]"
      ]
     },
     "execution_count": 11,
     "metadata": {},
     "output_type": "execute_result"
    }
   ],
   "source": [
    "#read the file\n",
    "df = pd.read_csv(\"jeans.csv\")\n",
    "df"
   ]
  },
  {
   "cell_type": "code",
   "execution_count": 12,
   "metadata": {},
   "outputs": [
    {
     "data": {
      "text/plain": [
       "(19200, 9)"
      ]
     },
     "execution_count": 12,
     "metadata": {},
     "output_type": "execute_result"
    }
   ],
   "source": [
    "df.shape"
   ]
  },
  {
   "cell_type": "code",
   "execution_count": 13,
   "metadata": {},
   "outputs": [
    {
     "data": {
      "text/html": [
       "<div>\n",
       "<style scoped>\n",
       "    .dataframe tbody tr th:only-of-type {\n",
       "        vertical-align: middle;\n",
       "    }\n",
       "\n",
       "    .dataframe tbody tr th {\n",
       "        vertical-align: top;\n",
       "    }\n",
       "\n",
       "    .dataframe thead th {\n",
       "        text-align: right;\n",
       "    }\n",
       "</style>\n",
       "<table border=\"1\" class=\"dataframe\">\n",
       "  <thead>\n",
       "    <tr style=\"text-align: right;\">\n",
       "      <th></th>\n",
       "      <th>name</th>\n",
       "      <th>main_category</th>\n",
       "      <th>sub_category</th>\n",
       "      <th>image</th>\n",
       "      <th>link</th>\n",
       "      <th>ratings</th>\n",
       "      <th>no_of_ratings</th>\n",
       "      <th>discount_price</th>\n",
       "      <th>actual_price</th>\n",
       "    </tr>\n",
       "  </thead>\n",
       "  <tbody>\n",
       "    <tr>\n",
       "      <th>0</th>\n",
       "      <td>Levi's Men's 511 Styled Slim Fit Jeans</td>\n",
       "      <td>men's clothing</td>\n",
       "      <td>Jeans</td>\n",
       "      <td>https://m.media-amazon.com/images/I/61squlDBu2...</td>\n",
       "      <td>https://www.amazon.in/Levis-Mens-Jeans-18298-1...</td>\n",
       "      <td>4.0</td>\n",
       "      <td>285</td>\n",
       "      <td>₹1,449</td>\n",
       "      <td>₹2,899</td>\n",
       "    </tr>\n",
       "    <tr>\n",
       "      <th>1</th>\n",
       "      <td>Urbano Fashion Men's Slim Fit Washed Jeans Str...</td>\n",
       "      <td>men's clothing</td>\n",
       "      <td>Jeans</td>\n",
       "      <td>https://m.media-amazon.com/images/I/61EJxytnV5...</td>\n",
       "      <td>https://www.amazon.in/Urbano-Fashion-Mens-Jean...</td>\n",
       "      <td>3.7</td>\n",
       "      <td>7,336</td>\n",
       "      <td>₹606</td>\n",
       "      <td>₹1,199</td>\n",
       "    </tr>\n",
       "    <tr>\n",
       "      <th>2</th>\n",
       "      <td>Ben Martin Men's Relaxed Fit Jeans</td>\n",
       "      <td>men's clothing</td>\n",
       "      <td>Jeans</td>\n",
       "      <td>https://m.media-amazon.com/images/I/616xchp1EC...</td>\n",
       "      <td>https://www.amazon.in/Ben-Martin-Relaxed-BMW-J...</td>\n",
       "      <td>3.6</td>\n",
       "      <td>34,754</td>\n",
       "      <td>₹599</td>\n",
       "      <td>₹2,499</td>\n",
       "    </tr>\n",
       "    <tr>\n",
       "      <th>3</th>\n",
       "      <td>Spykar Men's Super Skinny Fit Jeans</td>\n",
       "      <td>men's clothing</td>\n",
       "      <td>Jeans</td>\n",
       "      <td>https://m.media-amazon.com/images/I/61x6ta8Dhk...</td>\n",
       "      <td>https://www.amazon.in/Spykar-Super-Skinny-SSYT...</td>\n",
       "      <td>4.2</td>\n",
       "      <td>13</td>\n",
       "      <td>₹729</td>\n",
       "      <td>₹2,699</td>\n",
       "    </tr>\n",
       "    <tr>\n",
       "      <th>4</th>\n",
       "      <td>Levi's Men Jeans</td>\n",
       "      <td>men's clothing</td>\n",
       "      <td>Jeans</td>\n",
       "      <td>https://m.media-amazon.com/images/I/811awEFjbN...</td>\n",
       "      <td>https://www.amazon.in/Levis-Mens-Jeans-18298-1...</td>\n",
       "      <td>3.5</td>\n",
       "      <td>34</td>\n",
       "      <td>₹1,289</td>\n",
       "      <td>₹3,999</td>\n",
       "    </tr>\n",
       "  </tbody>\n",
       "</table>\n",
       "</div>"
      ],
      "text/plain": [
       "                                                name   main_category  \\\n",
       "0             Levi's Men's 511 Styled Slim Fit Jeans  men's clothing   \n",
       "1  Urbano Fashion Men's Slim Fit Washed Jeans Str...  men's clothing   \n",
       "2                 Ben Martin Men's Relaxed Fit Jeans  men's clothing   \n",
       "3                Spykar Men's Super Skinny Fit Jeans  men's clothing   \n",
       "4                                   Levi's Men Jeans  men's clothing   \n",
       "\n",
       "  sub_category                                              image  \\\n",
       "0        Jeans  https://m.media-amazon.com/images/I/61squlDBu2...   \n",
       "1        Jeans  https://m.media-amazon.com/images/I/61EJxytnV5...   \n",
       "2        Jeans  https://m.media-amazon.com/images/I/616xchp1EC...   \n",
       "3        Jeans  https://m.media-amazon.com/images/I/61x6ta8Dhk...   \n",
       "4        Jeans  https://m.media-amazon.com/images/I/811awEFjbN...   \n",
       "\n",
       "                                                link ratings no_of_ratings  \\\n",
       "0  https://www.amazon.in/Levis-Mens-Jeans-18298-1...     4.0           285   \n",
       "1  https://www.amazon.in/Urbano-Fashion-Mens-Jean...     3.7         7,336   \n",
       "2  https://www.amazon.in/Ben-Martin-Relaxed-BMW-J...     3.6        34,754   \n",
       "3  https://www.amazon.in/Spykar-Super-Skinny-SSYT...     4.2            13   \n",
       "4  https://www.amazon.in/Levis-Mens-Jeans-18298-1...     3.5            34   \n",
       "\n",
       "  discount_price actual_price  \n",
       "0         ₹1,449       ₹2,899  \n",
       "1           ₹606       ₹1,199  \n",
       "2           ₹599       ₹2,499  \n",
       "3           ₹729       ₹2,699  \n",
       "4         ₹1,289       ₹3,999  "
      ]
     },
     "execution_count": 13,
     "metadata": {},
     "output_type": "execute_result"
    }
   ],
   "source": [
    "df.head()"
   ]
  },
  {
   "cell_type": "code",
   "execution_count": 14,
   "metadata": {},
   "outputs": [
    {
     "data": {
      "text/html": [
       "<div>\n",
       "<style scoped>\n",
       "    .dataframe tbody tr th:only-of-type {\n",
       "        vertical-align: middle;\n",
       "    }\n",
       "\n",
       "    .dataframe tbody tr th {\n",
       "        vertical-align: top;\n",
       "    }\n",
       "\n",
       "    .dataframe thead th {\n",
       "        text-align: right;\n",
       "    }\n",
       "</style>\n",
       "<table border=\"1\" class=\"dataframe\">\n",
       "  <thead>\n",
       "    <tr style=\"text-align: right;\">\n",
       "      <th></th>\n",
       "      <th>name</th>\n",
       "      <th>main_category</th>\n",
       "      <th>sub_category</th>\n",
       "      <th>image</th>\n",
       "      <th>link</th>\n",
       "      <th>ratings</th>\n",
       "      <th>no_of_ratings</th>\n",
       "      <th>discount_price</th>\n",
       "      <th>actual_price</th>\n",
       "    </tr>\n",
       "  </thead>\n",
       "  <tbody>\n",
       "    <tr>\n",
       "      <th>19195</th>\n",
       "      <td>Fashionable Mens Slim Fit Denim Jeans</td>\n",
       "      <td>men's clothing</td>\n",
       "      <td>Jeans</td>\n",
       "      <td>https://m.media-amazon.com/images/I/51X0mAF3Zp...</td>\n",
       "      <td>https://www.amazon.in/Fashionable-Mens-Denim-J...</td>\n",
       "      <td>NaN</td>\n",
       "      <td>NaN</td>\n",
       "      <td>NaN</td>\n",
       "      <td>NaN</td>\n",
       "    </tr>\n",
       "    <tr>\n",
       "      <th>19196</th>\n",
       "      <td>Malik Singh JASBEER Singh MEGA MART Men's Slim...</td>\n",
       "      <td>men's clothing</td>\n",
       "      <td>Jeans</td>\n",
       "      <td>https://m.media-amazon.com/images/I/41J1Q0iwzC...</td>\n",
       "      <td>https://www.amazon.in/Malik-Singh-JASBEER-Deni...</td>\n",
       "      <td>NaN</td>\n",
       "      <td>NaN</td>\n",
       "      <td>₹1,799</td>\n",
       "      <td>₹1,999</td>\n",
       "    </tr>\n",
       "    <tr>\n",
       "      <th>19197</th>\n",
       "      <td>Regular Fit Jeans Blue</td>\n",
       "      <td>men's clothing</td>\n",
       "      <td>Jeans</td>\n",
       "      <td>https://m.media-amazon.com/images/I/41fPsqSK1z...</td>\n",
       "      <td>https://www.amazon.in/Generic-Regular-Fit-Jean...</td>\n",
       "      <td>NaN</td>\n",
       "      <td>NaN</td>\n",
       "      <td>₹1,799</td>\n",
       "      <td>₹1,999</td>\n",
       "    </tr>\n",
       "    <tr>\n",
       "      <th>19198</th>\n",
       "      <td>Men's Slim Fit Denim Jeans Blue</td>\n",
       "      <td>men's clothing</td>\n",
       "      <td>Jeans</td>\n",
       "      <td>https://m.media-amazon.com/images/I/41J1Q0iwzC...</td>\n",
       "      <td>https://www.amazon.in/Mens-Slim-Denim-Jeans-Bl...</td>\n",
       "      <td>NaN</td>\n",
       "      <td>NaN</td>\n",
       "      <td>₹1,799</td>\n",
       "      <td>₹1,999</td>\n",
       "    </tr>\n",
       "    <tr>\n",
       "      <th>19199</th>\n",
       "      <td>Men Navy Blue Solid Slim Fit Jeans</td>\n",
       "      <td>men's clothing</td>\n",
       "      <td>Jeans</td>\n",
       "      <td>https://m.media-amazon.com/images/I/41zpHvVzQ0...</td>\n",
       "      <td>https://www.amazon.in/Navy-Blue-Solid-Slim-Jea...</td>\n",
       "      <td>NaN</td>\n",
       "      <td>NaN</td>\n",
       "      <td>₹1,799</td>\n",
       "      <td>₹1,999</td>\n",
       "    </tr>\n",
       "  </tbody>\n",
       "</table>\n",
       "</div>"
      ],
      "text/plain": [
       "                                                    name   main_category  \\\n",
       "19195              Fashionable Mens Slim Fit Denim Jeans  men's clothing   \n",
       "19196  Malik Singh JASBEER Singh MEGA MART Men's Slim...  men's clothing   \n",
       "19197                             Regular Fit Jeans Blue  men's clothing   \n",
       "19198                    Men's Slim Fit Denim Jeans Blue  men's clothing   \n",
       "19199                 Men Navy Blue Solid Slim Fit Jeans  men's clothing   \n",
       "\n",
       "      sub_category                                              image  \\\n",
       "19195        Jeans  https://m.media-amazon.com/images/I/51X0mAF3Zp...   \n",
       "19196        Jeans  https://m.media-amazon.com/images/I/41J1Q0iwzC...   \n",
       "19197        Jeans  https://m.media-amazon.com/images/I/41fPsqSK1z...   \n",
       "19198        Jeans  https://m.media-amazon.com/images/I/41J1Q0iwzC...   \n",
       "19199        Jeans  https://m.media-amazon.com/images/I/41zpHvVzQ0...   \n",
       "\n",
       "                                                    link ratings  \\\n",
       "19195  https://www.amazon.in/Fashionable-Mens-Denim-J...     NaN   \n",
       "19196  https://www.amazon.in/Malik-Singh-JASBEER-Deni...     NaN   \n",
       "19197  https://www.amazon.in/Generic-Regular-Fit-Jean...     NaN   \n",
       "19198  https://www.amazon.in/Mens-Slim-Denim-Jeans-Bl...     NaN   \n",
       "19199  https://www.amazon.in/Navy-Blue-Solid-Slim-Jea...     NaN   \n",
       "\n",
       "      no_of_ratings discount_price actual_price  \n",
       "19195           NaN            NaN          NaN  \n",
       "19196           NaN         ₹1,799       ₹1,999  \n",
       "19197           NaN         ₹1,799       ₹1,999  \n",
       "19198           NaN         ₹1,799       ₹1,999  \n",
       "19199           NaN         ₹1,799       ₹1,999  "
      ]
     },
     "execution_count": 14,
     "metadata": {},
     "output_type": "execute_result"
    }
   ],
   "source": [
    "df.tail()"
   ]
  },
  {
   "cell_type": "code",
   "execution_count": 15,
   "metadata": {},
   "outputs": [
    {
     "data": {
      "text/html": [
       "<div>\n",
       "<style scoped>\n",
       "    .dataframe tbody tr th:only-of-type {\n",
       "        vertical-align: middle;\n",
       "    }\n",
       "\n",
       "    .dataframe tbody tr th {\n",
       "        vertical-align: top;\n",
       "    }\n",
       "\n",
       "    .dataframe thead th {\n",
       "        text-align: right;\n",
       "    }\n",
       "</style>\n",
       "<table border=\"1\" class=\"dataframe\">\n",
       "  <thead>\n",
       "    <tr style=\"text-align: right;\">\n",
       "      <th></th>\n",
       "      <th>name</th>\n",
       "      <th>main_category</th>\n",
       "      <th>sub_category</th>\n",
       "      <th>image</th>\n",
       "      <th>link</th>\n",
       "      <th>ratings</th>\n",
       "      <th>no_of_ratings</th>\n",
       "      <th>discount_price</th>\n",
       "      <th>actual_price</th>\n",
       "    </tr>\n",
       "  </thead>\n",
       "  <tbody>\n",
       "    <tr>\n",
       "      <th>count</th>\n",
       "      <td>19200</td>\n",
       "      <td>19200</td>\n",
       "      <td>19200</td>\n",
       "      <td>19200</td>\n",
       "      <td>19200</td>\n",
       "      <td>5920</td>\n",
       "      <td>5920</td>\n",
       "      <td>15657</td>\n",
       "      <td>17782</td>\n",
       "    </tr>\n",
       "    <tr>\n",
       "      <th>unique</th>\n",
       "      <td>9240</td>\n",
       "      <td>1</td>\n",
       "      <td>1</td>\n",
       "      <td>13496</td>\n",
       "      <td>19200</td>\n",
       "      <td>41</td>\n",
       "      <td>413</td>\n",
       "      <td>1722</td>\n",
       "      <td>569</td>\n",
       "    </tr>\n",
       "    <tr>\n",
       "      <th>top</th>\n",
       "      <td>Pepe Jeans Men's Slim Jeans</td>\n",
       "      <td>men's clothing</td>\n",
       "      <td>Jeans</td>\n",
       "      <td>https://m.media-amazon.com/images/I/41aj79Rl5o...</td>\n",
       "      <td>https://www.amazon.in/Levis-Mens-Jeans-18298-1...</td>\n",
       "      <td>5.0</td>\n",
       "      <td>1</td>\n",
       "      <td>₹999</td>\n",
       "      <td>₹2,999</td>\n",
       "    </tr>\n",
       "    <tr>\n",
       "      <th>freq</th>\n",
       "      <td>262</td>\n",
       "      <td>19200</td>\n",
       "      <td>19200</td>\n",
       "      <td>102</td>\n",
       "      <td>1</td>\n",
       "      <td>694</td>\n",
       "      <td>1218</td>\n",
       "      <td>480</td>\n",
       "      <td>1164</td>\n",
       "    </tr>\n",
       "  </tbody>\n",
       "</table>\n",
       "</div>"
      ],
      "text/plain": [
       "                               name   main_category sub_category  \\\n",
       "count                         19200           19200        19200   \n",
       "unique                         9240               1            1   \n",
       "top     Pepe Jeans Men's Slim Jeans  men's clothing        Jeans   \n",
       "freq                            262           19200        19200   \n",
       "\n",
       "                                                    image  \\\n",
       "count                                               19200   \n",
       "unique                                              13496   \n",
       "top     https://m.media-amazon.com/images/I/41aj79Rl5o...   \n",
       "freq                                                  102   \n",
       "\n",
       "                                                     link ratings  \\\n",
       "count                                               19200    5920   \n",
       "unique                                              19200      41   \n",
       "top     https://www.amazon.in/Levis-Mens-Jeans-18298-1...     5.0   \n",
       "freq                                                    1     694   \n",
       "\n",
       "       no_of_ratings discount_price actual_price  \n",
       "count           5920          15657        17782  \n",
       "unique           413           1722          569  \n",
       "top                1           ₹999       ₹2,999  \n",
       "freq            1218            480         1164  "
      ]
     },
     "execution_count": 15,
     "metadata": {},
     "output_type": "execute_result"
    }
   ],
   "source": [
    "df.describe()"
   ]
  },
  {
   "cell_type": "code",
   "execution_count": 16,
   "metadata": {},
   "outputs": [
    {
     "name": "stdout",
     "output_type": "stream",
     "text": [
      "<class 'pandas.core.frame.DataFrame'>\n",
      "RangeIndex: 19200 entries, 0 to 19199\n",
      "Data columns (total 9 columns):\n",
      " #   Column          Non-Null Count  Dtype \n",
      "---  ------          --------------  ----- \n",
      " 0   name            19200 non-null  object\n",
      " 1   main_category   19200 non-null  object\n",
      " 2   sub_category    19200 non-null  object\n",
      " 3   image           19200 non-null  object\n",
      " 4   link            19200 non-null  object\n",
      " 5   ratings         5920 non-null   object\n",
      " 6   no_of_ratings   5920 non-null   object\n",
      " 7   discount_price  15657 non-null  object\n",
      " 8   actual_price    17782 non-null  object\n",
      "dtypes: object(9)\n",
      "memory usage: 1.3+ MB\n"
     ]
    }
   ],
   "source": [
    "df.info()"
   ]
  },
  {
   "cell_type": "code",
   "execution_count": 17,
   "metadata": {},
   "outputs": [
    {
     "data": {
      "text/html": [
       "<div>\n",
       "<style scoped>\n",
       "    .dataframe tbody tr th:only-of-type {\n",
       "        vertical-align: middle;\n",
       "    }\n",
       "\n",
       "    .dataframe tbody tr th {\n",
       "        vertical-align: top;\n",
       "    }\n",
       "\n",
       "    .dataframe thead th {\n",
       "        text-align: right;\n",
       "    }\n",
       "</style>\n",
       "<table border=\"1\" class=\"dataframe\">\n",
       "  <thead>\n",
       "    <tr style=\"text-align: right;\">\n",
       "      <th></th>\n",
       "      <th>name</th>\n",
       "      <th>main_category</th>\n",
       "      <th>sub_category</th>\n",
       "      <th>image</th>\n",
       "      <th>link</th>\n",
       "      <th>ratings</th>\n",
       "      <th>no_of_ratings</th>\n",
       "      <th>discount_price</th>\n",
       "      <th>actual_price</th>\n",
       "    </tr>\n",
       "  </thead>\n",
       "  <tbody>\n",
       "    <tr>\n",
       "      <th>0</th>\n",
       "      <td>False</td>\n",
       "      <td>False</td>\n",
       "      <td>False</td>\n",
       "      <td>False</td>\n",
       "      <td>False</td>\n",
       "      <td>False</td>\n",
       "      <td>False</td>\n",
       "      <td>False</td>\n",
       "      <td>False</td>\n",
       "    </tr>\n",
       "    <tr>\n",
       "      <th>1</th>\n",
       "      <td>False</td>\n",
       "      <td>False</td>\n",
       "      <td>False</td>\n",
       "      <td>False</td>\n",
       "      <td>False</td>\n",
       "      <td>False</td>\n",
       "      <td>False</td>\n",
       "      <td>False</td>\n",
       "      <td>False</td>\n",
       "    </tr>\n",
       "    <tr>\n",
       "      <th>2</th>\n",
       "      <td>False</td>\n",
       "      <td>False</td>\n",
       "      <td>False</td>\n",
       "      <td>False</td>\n",
       "      <td>False</td>\n",
       "      <td>False</td>\n",
       "      <td>False</td>\n",
       "      <td>False</td>\n",
       "      <td>False</td>\n",
       "    </tr>\n",
       "    <tr>\n",
       "      <th>3</th>\n",
       "      <td>False</td>\n",
       "      <td>False</td>\n",
       "      <td>False</td>\n",
       "      <td>False</td>\n",
       "      <td>False</td>\n",
       "      <td>False</td>\n",
       "      <td>False</td>\n",
       "      <td>False</td>\n",
       "      <td>False</td>\n",
       "    </tr>\n",
       "    <tr>\n",
       "      <th>4</th>\n",
       "      <td>False</td>\n",
       "      <td>False</td>\n",
       "      <td>False</td>\n",
       "      <td>False</td>\n",
       "      <td>False</td>\n",
       "      <td>False</td>\n",
       "      <td>False</td>\n",
       "      <td>False</td>\n",
       "      <td>False</td>\n",
       "    </tr>\n",
       "    <tr>\n",
       "      <th>...</th>\n",
       "      <td>...</td>\n",
       "      <td>...</td>\n",
       "      <td>...</td>\n",
       "      <td>...</td>\n",
       "      <td>...</td>\n",
       "      <td>...</td>\n",
       "      <td>...</td>\n",
       "      <td>...</td>\n",
       "      <td>...</td>\n",
       "    </tr>\n",
       "    <tr>\n",
       "      <th>19195</th>\n",
       "      <td>False</td>\n",
       "      <td>False</td>\n",
       "      <td>False</td>\n",
       "      <td>False</td>\n",
       "      <td>False</td>\n",
       "      <td>True</td>\n",
       "      <td>True</td>\n",
       "      <td>True</td>\n",
       "      <td>True</td>\n",
       "    </tr>\n",
       "    <tr>\n",
       "      <th>19196</th>\n",
       "      <td>False</td>\n",
       "      <td>False</td>\n",
       "      <td>False</td>\n",
       "      <td>False</td>\n",
       "      <td>False</td>\n",
       "      <td>True</td>\n",
       "      <td>True</td>\n",
       "      <td>False</td>\n",
       "      <td>False</td>\n",
       "    </tr>\n",
       "    <tr>\n",
       "      <th>19197</th>\n",
       "      <td>False</td>\n",
       "      <td>False</td>\n",
       "      <td>False</td>\n",
       "      <td>False</td>\n",
       "      <td>False</td>\n",
       "      <td>True</td>\n",
       "      <td>True</td>\n",
       "      <td>False</td>\n",
       "      <td>False</td>\n",
       "    </tr>\n",
       "    <tr>\n",
       "      <th>19198</th>\n",
       "      <td>False</td>\n",
       "      <td>False</td>\n",
       "      <td>False</td>\n",
       "      <td>False</td>\n",
       "      <td>False</td>\n",
       "      <td>True</td>\n",
       "      <td>True</td>\n",
       "      <td>False</td>\n",
       "      <td>False</td>\n",
       "    </tr>\n",
       "    <tr>\n",
       "      <th>19199</th>\n",
       "      <td>False</td>\n",
       "      <td>False</td>\n",
       "      <td>False</td>\n",
       "      <td>False</td>\n",
       "      <td>False</td>\n",
       "      <td>True</td>\n",
       "      <td>True</td>\n",
       "      <td>False</td>\n",
       "      <td>False</td>\n",
       "    </tr>\n",
       "  </tbody>\n",
       "</table>\n",
       "<p>19200 rows × 9 columns</p>\n",
       "</div>"
      ],
      "text/plain": [
       "        name  main_category  sub_category  image   link  ratings  \\\n",
       "0      False          False         False  False  False    False   \n",
       "1      False          False         False  False  False    False   \n",
       "2      False          False         False  False  False    False   \n",
       "3      False          False         False  False  False    False   \n",
       "4      False          False         False  False  False    False   \n",
       "...      ...            ...           ...    ...    ...      ...   \n",
       "19195  False          False         False  False  False     True   \n",
       "19196  False          False         False  False  False     True   \n",
       "19197  False          False         False  False  False     True   \n",
       "19198  False          False         False  False  False     True   \n",
       "19199  False          False         False  False  False     True   \n",
       "\n",
       "       no_of_ratings  discount_price  actual_price  \n",
       "0              False           False         False  \n",
       "1              False           False         False  \n",
       "2              False           False         False  \n",
       "3              False           False         False  \n",
       "4              False           False         False  \n",
       "...              ...             ...           ...  \n",
       "19195           True            True          True  \n",
       "19196           True           False         False  \n",
       "19197           True           False         False  \n",
       "19198           True           False         False  \n",
       "19199           True           False         False  \n",
       "\n",
       "[19200 rows x 9 columns]"
      ]
     },
     "execution_count": 17,
     "metadata": {},
     "output_type": "execute_result"
    }
   ],
   "source": [
    "missing_data = df.isnull()\n",
    "missing_data"
   ]
  },
  {
   "cell_type": "code",
   "execution_count": 18,
   "metadata": {},
   "outputs": [
    {
     "data": {
      "text/plain": [
       "name                  0\n",
       "main_category         0\n",
       "sub_category          0\n",
       "image                 0\n",
       "link                  0\n",
       "ratings           13280\n",
       "no_of_ratings     13280\n",
       "discount_price     3543\n",
       "actual_price       1418\n",
       "dtype: int64"
      ]
     },
     "execution_count": 18,
     "metadata": {},
     "output_type": "execute_result"
    }
   ],
   "source": [
    "missing_counts = missing_data.sum()\n",
    "missing_counts"
   ]
  },
  {
   "cell_type": "code",
   "execution_count": 19,
   "metadata": {},
   "outputs": [
    {
     "data": {
      "image/png": "[encoded data removed]",
      "text/plain": [
       "<Figure size 1000x600 with 1 Axes>"
      ]
     },
     "metadata": {},
     "output_type": "display_data"
    }
   ],
   "source": [
    "perc = 70.0\n",
    "min_count = int(((100 - perc) / 100) * len(df) + 1)\n",
    "mod_df = df.dropna(axis=1, thresh=min_count)\n",
    "plt.figure(figsize=(10, 6))\n",
    "sorted_missing_counts = missing_counts.sort_values(ascending=False)\n",
    "plt.bar(sorted_missing_counts.index, sorted_missing_counts.values) \n",
    "plt.xlabel('Columns')                                             \n",
    "plt.ylabel('Missing Values Count')\n",
    "plt.title('Missing Values Distribution')\n",
    "plt.xticks(rotation=45)\n",
    "plt.tight_layout()\n",
    "plt.show()                                                       \n"
   ]
  },
  {
   "cell_type": "code",
   "execution_count": 20,
   "metadata": {},
   "outputs": [
    {
     "data": {
      "text/plain": [
       "0"
      ]
     },
     "execution_count": 20,
     "metadata": {},
     "output_type": "execute_result"
    }
   ],
   "source": [
    "df.duplicated().sum()"
   ]
  },
  {
   "cell_type": "code",
   "execution_count": 21,
   "metadata": {},
   "outputs": [
    {
     "data": {
      "text/plain": [
       "name              object\n",
       "main_category     object\n",
       "sub_category      object\n",
       "image             object\n",
       "link              object\n",
       "ratings           object\n",
       "no_of_ratings     object\n",
       "discount_price    object\n",
       "actual_price      object\n",
       "dtype: object"
      ]
     },
     "execution_count": 21,
     "metadata": {},
     "output_type": "execute_result"
    }
   ],
   "source": [
    "df.dtypes"
   ]
  },
  {
   "cell_type": "code",
   "execution_count": 22,
   "metadata": {},
   "outputs": [],
   "source": [
    "df[\"ratings\"] = pd.to_numeric(df[\"ratings\"], errors='coerce')\n",
    "df[\"ratings\"].fillna(df['ratings'].mean(), inplace=True)\n",
    "df[\"ratings\"] = df[\"ratings\"].astype(float)"
   ]
  },
  {
   "cell_type": "code",
   "execution_count": 23,
   "metadata": {},
   "outputs": [
    {
     "data": {
      "text/plain": [
       "dtype('float64')"
      ]
     },
     "execution_count": 23,
     "metadata": {},
     "output_type": "execute_result"
    }
   ],
   "source": [
    "df[\"ratings\"].dtype"
   ]
  },
  {
   "cell_type": "code",
   "execution_count": 24,
   "metadata": {},
   "outputs": [
    {
     "data": {
      "text/plain": [
       "array(['285', '7,336', '34,754', '13', '34', '99', '107', '1,103', '82',\n",
       "       '133', '263', '5,388', '9', '35', '75', '2,658', '28', '576',\n",
       "       '8,317', '125', '104', '1,801', '6', '1,654', '51', '66', '1,607',\n",
       "       '1', '3,918', '115', '307', '1,150', '49', '442', '87', '5', '536',\n",
       "       '3,526', '39', '175', '351', '44', '775', '83', '1,571', '56',\n",
       "       '12', '16', '52', '29', '33', '18', '381', '271', '15', '21',\n",
       "       '224', '64', '1,075', '20', '69', '1,831', '525', '101', '2,465',\n",
       "       '5,557', '3,730', '3', '375', '128', '1,747', '355', '329', '70',\n",
       "       '153', '166', nan, '2,752', '2', '11,747', '10', '71', '7', '513',\n",
       "       '2,062', '647', '4', '81', '586', '456', '1,210', '465', '1,533',\n",
       "       '45', '1,133', '784', '4,849', '85', '25', '268', '139', '111',\n",
       "       '23', '150', '181', '40', '8', '14', '4,009', '11', '109', '887',\n",
       "       '237', '538', '131', '19', '163', '599', '205', '228', '4,117',\n",
       "       '1,023', '3,369', '22', '30', '385', '508', '4,644', '847',\n",
       "       '5,816', '27', '1,936', '84', '262', '41', '284', '43', '482',\n",
       "       '50', '660', '93', '288', '3,889', '577', '108', '747', '684',\n",
       "       '37', '357', '24', '42', '1,858', '17', '487', '88', '126', '472',\n",
       "       '571', '142', '90', '156', '201', '390', '60', '681', '2,164',\n",
       "       '616', '68', '73', '278', '196', '3,011', '698', '1,208', '833',\n",
       "       '47', '182', '53', '157', '1,116', '184', '31', '774', '2,472',\n",
       "       '174', '958', '622', '36', '662', '580', '57', '291', '164', '48',\n",
       "       '140', '59', '245', '61', '105', '32', '148', '208', '103', '154',\n",
       "       '129', '97', '46', '26', '86', '454', '270', '58', '480', '823',\n",
       "       '170', '102', '55', '364', '123', '557', '210', '585', '370',\n",
       "       '304', '507', '77', '906', '247', '317', '979', '350', '159', '63',\n",
       "       '269', '211', '76', '209', '367', '692', '80', '116', '879', '38',\n",
       "       '511', '89', '100', '1,557', '62', '294', '92', '256', '1,774',\n",
       "       '300', '924', '431', '633', '668', '297', '178', '410', '558',\n",
       "       '219', '501', '146', '400', '127', '138', '425', '279', '697',\n",
       "       '389', '74', '960', '120', '132', '95', '79', '306', '134', '722',\n",
       "       '378', '516', '141', '94', '214', '213', '3,576', '189', '168',\n",
       "       '244', '136', '144', '241', '110', '236', '185', '194', '2,126',\n",
       "       '296', '212', '470', '72', '479', '177', '850', '547', '106',\n",
       "       '346', '281', '113', '29,469', '654', '1,000', '2,898', '1,223',\n",
       "       '78', '118', '392', '529', '767', '352', '384', '152', '326',\n",
       "       '112', '179', '411', '243', '91', '225', '162', '7,855', '376',\n",
       "       '169', '96', '1,107', '342', '685', '183', '222', '124', '233',\n",
       "       '215', '238', '143', '220', '1,186', '512', '468', '204', '20,367',\n",
       "       '165', '316', '23,823', '282', '441', '1,231', '114', '54', '167',\n",
       "       '699', '122', '117', '26,247', '917', '563', '67', '7,150', '65',\n",
       "       '484', '186', '444', '145', '7,253', '223', '151', '976', '361',\n",
       "       '325', '314', '137', '98', '173',\n",
       "       'Usually dispatched in 6 to 7 days.', '413', '199', '158', '9,979',\n",
       "       '231', '1,627', 'Only 1 left in stock.', '302', '3,340', '1,482',\n",
       "       '203', '1,173', '5,266', '40,675', '5,655', '6,893',\n",
       "       'Only 2 left in stock.', '5,247', '42,871',\n",
       "       'Usually dispatched in 4 to 5 weeks.', '7,702', '94,676', '566',\n",
       "       '476', '1,509', '857', '197', '2,705', '1,130',\n",
       "       'Usually dispatched in 4 to 5 days.'], dtype=object)"
      ]
     },
     "execution_count": 24,
     "metadata": {},
     "output_type": "execute_result"
    }
   ],
   "source": [
    "df[\"no_of_ratings\"].unique()"
   ]
  },
  {
   "cell_type": "code",
   "execution_count": 25,
   "metadata": {},
   "outputs": [],
   "source": [
    "df[\"no_of_ratings\"] = pd.to_numeric(df[\"no_of_ratings\"], errors='coerce')\n",
    "df[\"no_of_ratings\"].fillna(df[\"no_of_ratings\"].mean(), inplace=True)\n",
    "df[\"no_of_ratings\"] = df[\"no_of_ratings\"].astype(float)"
   ]
  },
  {
   "cell_type": "code",
   "execution_count": 26,
   "metadata": {},
   "outputs": [
    {
     "data": {
      "text/plain": [
       "dtype('float64')"
      ]
     },
     "execution_count": 26,
     "metadata": {},
     "output_type": "execute_result"
    }
   ],
   "source": [
    "df[\"no_of_ratings\"].dtype"
   ]
  },
  {
   "cell_type": "code",
   "execution_count": 27,
   "metadata": {},
   "outputs": [],
   "source": [
    "df['discount_price'] = df['discount_price'].str.replace('[₹,]', '', regex=True)\n",
    "df['actual_price'] = df['actual_price'].str.replace('[₹,]', '', regex=True)\n",
    "\n",
    "\n",
    "df['discount_price'] = pd.to_numeric(df['discount_price'], errors='coerce').astype(float)\n",
    "df['actual_price'] = pd.to_numeric(df['actual_price'], errors='coerce').astype(float)"
   ]
  },
  {
   "cell_type": "code",
   "execution_count": 28,
   "metadata": {},
   "outputs": [],
   "source": [
    "# List of columns with numeric data types (float,int)\n",
    "numeric_columns = ['discount_price', 'actual_price']\n",
    "\n",
    "# Calculate means for numeric columns\n",
    "means = df[numeric_columns].mean()\n",
    "\n",
    "# Fill NaN values in numeric columns with the calculated means\n",
    "df[numeric_columns] = df[numeric_columns].fillna(means)\n"
   ]
  },
  {
   "cell_type": "code",
   "execution_count": 29,
   "metadata": {},
   "outputs": [
    {
     "name": "stdout",
     "output_type": "stream",
     "text": [
      "<class 'pandas.core.frame.DataFrame'>\n",
      "RangeIndex: 19200 entries, 0 to 19199\n",
      "Data columns (total 9 columns):\n",
      " #   Column          Non-Null Count  Dtype  \n",
      "---  ------          --------------  -----  \n",
      " 0   name            19200 non-null  object \n",
      " 1   main_category   19200 non-null  object \n",
      " 2   sub_category    19200 non-null  object \n",
      " 3   image           19200 non-null  object \n",
      " 4   link            19200 non-null  object \n",
      " 5   ratings         19200 non-null  float64\n",
      " 6   no_of_ratings   19200 non-null  float64\n",
      " 7   discount_price  19200 non-null  float64\n",
      " 8   actual_price    19200 non-null  float64\n",
      "dtypes: float64(4), object(5)\n",
      "memory usage: 1.3+ MB\n"
     ]
    }
   ],
   "source": [
    "df.info()"
   ]
  },
  {
   "cell_type": "code",
   "execution_count": 30,
   "metadata": {},
   "outputs": [
    {
     "data": {
      "text/plain": [
       "count    19200.000000\n",
       "mean         3.555830\n",
       "std          0.528357\n",
       "min          1.000000\n",
       "25%          3.555830\n",
       "50%          3.555830\n",
       "75%          3.555830\n",
       "max          5.000000\n",
       "Name: ratings, dtype: float64"
      ]
     },
     "execution_count": 30,
     "metadata": {},
     "output_type": "execute_result"
    }
   ],
   "source": [
    "df['ratings'].describe()"
   ]
  },
  {
   "cell_type": "code",
   "execution_count": 31,
   "metadata": {},
   "outputs": [
    {
     "data": {
      "text/plain": [
       "count    19200.000000\n",
       "mean        29.644498\n",
       "std         48.563756\n",
       "min          1.000000\n",
       "25%         27.000000\n",
       "50%         29.644498\n",
       "75%         29.644498\n",
       "max        979.000000\n",
       "Name: no_of_ratings, dtype: float64"
      ]
     },
     "execution_count": 31,
     "metadata": {},
     "output_type": "execute_result"
    }
   ],
   "source": [
    "df[\"no_of_ratings\"].describe()"
   ]
  },
  {
   "cell_type": "code",
   "execution_count": 32,
   "metadata": {},
   "outputs": [
    {
     "data": {
      "text/plain": [
       "count    19200.000000\n",
       "mean      1576.151566\n",
       "std        933.937637\n",
       "min         99.000000\n",
       "25%       1049.000000\n",
       "50%       1576.151566\n",
       "75%       1765.515000\n",
       "max      25830.000000\n",
       "Name: discount_price, dtype: float64"
      ]
     },
     "execution_count": 32,
     "metadata": {},
     "output_type": "execute_result"
    }
   ],
   "source": [
    "df[\"discount_price\"].describe()"
   ]
  },
  {
   "cell_type": "code",
   "execution_count": 33,
   "metadata": {},
   "outputs": [
    {
     "data": {
      "text/plain": [
       "count    19200.000000\n",
       "mean      2887.980370\n",
       "std       1699.289877\n",
       "min        199.000000\n",
       "25%       1959.750000\n",
       "50%       2799.000000\n",
       "75%       3499.000000\n",
       "max      40495.950000\n",
       "Name: actual_price, dtype: float64"
      ]
     },
     "execution_count": 33,
     "metadata": {},
     "output_type": "execute_result"
    }
   ],
   "source": [
    "df[\"actual_price\"].describe()"
   ]
  },
  {
   "cell_type": "code",
   "execution_count": 34,
   "metadata": {},
   "outputs": [
    {
     "data": {
      "text/plain": [
       "3.5558300896936874"
      ]
     },
     "execution_count": 34,
     "metadata": {},
     "output_type": "execute_result"
    }
   ],
   "source": [
    "df['ratings'].median()  "
   ]
  },
  {
   "cell_type": "code",
   "execution_count": 35,
   "metadata": {},
   "outputs": [
    {
     "data": {
      "text/plain": [
       "2799.0"
      ]
     },
     "execution_count": 35,
     "metadata": {},
     "output_type": "execute_result"
    }
   ],
   "source": [
    "df[\"actual_price\"].median()"
   ]
  },
  {
   "cell_type": "code",
   "execution_count": 36,
   "metadata": {},
   "outputs": [
    {
     "data": {
      "text/plain": [
       "1576.1515660726832"
      ]
     },
     "execution_count": 36,
     "metadata": {},
     "output_type": "execute_result"
    }
   ],
   "source": [
    "df[\"discount_price\"].median()"
   ]
  },
  {
   "cell_type": "code",
   "execution_count": 37,
   "metadata": {},
   "outputs": [
    {
     "data": {
      "text/plain": [
       "29.644497771683238"
      ]
     },
     "execution_count": 37,
     "metadata": {},
     "output_type": "execute_result"
    }
   ],
   "source": [
    "df[\"no_of_ratings\"].median()"
   ]
  },
  {
   "cell_type": "code",
   "execution_count": 38,
   "metadata": {},
   "outputs": [
    {
     "data": {
      "text/plain": [
       "0    2887.98037\n",
       "Name: actual_price, dtype: float64"
      ]
     },
     "execution_count": 38,
     "metadata": {},
     "output_type": "execute_result"
    }
   ],
   "source": [
    "df[\"actual_price\"].mode()"
   ]
  },
  {
   "cell_type": "code",
   "execution_count": 39,
   "metadata": {},
   "outputs": [
    {
     "data": {
      "text/plain": [
       "0.0"
      ]
     },
     "execution_count": 39,
     "metadata": {},
     "output_type": "execute_result"
    }
   ],
   "source": [
    "#IQR\n",
    "k, k = np.percentile(df['ratings'], [75 ,25])\n",
    "iqr = k - k\n",
    "\n",
    "iqr\n"
   ]
  },
  {
   "cell_type": "code",
   "execution_count": 40,
   "metadata": {},
   "outputs": [
    {
     "data": {
      "text/plain": [
       "0.0"
      ]
     },
     "execution_count": 40,
     "metadata": {},
     "output_type": "execute_result"
    }
   ],
   "source": [
    "k, k= np.percentile(df['no_of_ratings'], [75 ,25])\n",
    "iqr = k -k\n",
    "\n",
    "iqr"
   ]
  },
  {
   "cell_type": "code",
   "execution_count": 41,
   "metadata": {},
   "outputs": [
    {
     "data": {
      "text/html": [
       "<div>\n",
       "<style scoped>\n",
       "    .dataframe tbody tr th:only-of-type {\n",
       "        vertical-align: middle;\n",
       "    }\n",
       "\n",
       "    .dataframe tbody tr th {\n",
       "        vertical-align: top;\n",
       "    }\n",
       "\n",
       "    .dataframe thead th {\n",
       "        text-align: right;\n",
       "    }\n",
       "</style>\n",
       "<table border=\"1\" class=\"dataframe\">\n",
       "  <thead>\n",
       "    <tr style=\"text-align: right;\">\n",
       "      <th></th>\n",
       "      <th>name</th>\n",
       "      <th>main_category</th>\n",
       "      <th>sub_category</th>\n",
       "      <th>image</th>\n",
       "      <th>link</th>\n",
       "      <th>ratings</th>\n",
       "      <th>no_of_ratings</th>\n",
       "      <th>discount_price</th>\n",
       "      <th>actual_price</th>\n",
       "    </tr>\n",
       "  </thead>\n",
       "  <tbody>\n",
       "    <tr>\n",
       "      <th>569</th>\n",
       "      <td>DAIS Men's Skinny Fit Jeans</td>\n",
       "      <td>men's clothing</td>\n",
       "      <td>Jeans</td>\n",
       "      <td>https://m.media-amazon.com/images/I/6122h-jVuz...</td>\n",
       "      <td>https://www.amazon.in/DAIS-Skinny-Stretchable-...</td>\n",
       "      <td>3.4</td>\n",
       "      <td>979.0</td>\n",
       "      <td>489.0</td>\n",
       "      <td>1299.0</td>\n",
       "    </tr>\n",
       "  </tbody>\n",
       "</table>\n",
       "</div>"
      ],
      "text/plain": [
       "                            name   main_category sub_category  \\\n",
       "569  DAIS Men's Skinny Fit Jeans  men's clothing        Jeans   \n",
       "\n",
       "                                                 image  \\\n",
       "569  https://m.media-amazon.com/images/I/6122h-jVuz...   \n",
       "\n",
       "                                                  link  ratings  \\\n",
       "569  https://www.amazon.in/DAIS-Skinny-Stretchable-...      3.4   \n",
       "\n",
       "     no_of_ratings  discount_price  actual_price  \n",
       "569          979.0           489.0        1299.0  "
      ]
     },
     "execution_count": 41,
     "metadata": {},
     "output_type": "execute_result"
    }
   ],
   "source": [
    "df.loc[df['no_of_ratings']==df['no_of_ratings'].max()]"
   ]
  },
  {
   "cell_type": "code",
   "execution_count": 42,
   "metadata": {},
   "outputs": [
    {
     "data": {
      "text/plain": [
       "<Axes: title={'center': 'Ratings having a max no.of ratings'}, xlabel='ratings', ylabel='no_of_ratings'>"
      ]
     },
     "execution_count": 42,
     "metadata": {},
     "output_type": "execute_result"
    },
    {
     "data": {
      "image/png": "[encoded data removed]",
      "text/plain": [
       "<Figure size 2000x1000 with 1 Axes>"
      ]
     },
     "metadata": {},
     "output_type": "display_data"
    }
   ],
   "source": [
    "plt.figure(figsize=(20,10))\n",
    "plt.title('Ratings having a max no.of ratings')\n",
    "sns.barplot(x='ratings',y='no_of_ratings',data=df)"
   ]
  },
  {
   "cell_type": "code",
   "execution_count": 43,
   "metadata": {},
   "outputs": [
    {
     "data": {
      "image/png": "[encoded data removed]",
      "text/plain": [
       "<Figure size 640x480 with 1 Axes>"
      ]
     },
     "metadata": {},
     "output_type": "display_data"
    }
   ],
   "source": [
    "\n",
    "x = df['actual_price']\n",
    "y = df['discount_price']\n",
    "\n",
    "# Generate a subset of x and y values for ticks\n",
    "x_ticks = np.linspace(min(x), max(x), num=10)\n",
    "y_ticks = np.linspace(min(y), max(y), num=10)\n",
    "\n",
    "# Round the tick values for clarity\n",
    "x_ticks = [round(val, 2) for val in x_ticks]\n",
    "y_ticks = [round(val, 2) for val in y_ticks]\n",
    "\n",
    "# Create the plot\n",
    "plt.scatter(x, y)    #scatter plot was used to know the relation between two numeric values\n",
    "plt.xticks(x_ticks)\n",
    "plt.yticks(y_ticks)\n",
    "plt.xlabel('Actual Price')\n",
    "plt.ylabel('Discount Price')\n",
    "plt.title('Price Comparison')\n",
    "plt.show()"
   ]
  },
  {
   "cell_type": "code",
   "execution_count": 44,
   "metadata": {},
   "outputs": [
    {
     "data": {
      "text/html": [
       "<div>\n",
       "<style scoped>\n",
       "    .dataframe tbody tr th:only-of-type {\n",
       "        vertical-align: middle;\n",
       "    }\n",
       "\n",
       "    .dataframe tbody tr th {\n",
       "        vertical-align: top;\n",
       "    }\n",
       "\n",
       "    .dataframe thead th {\n",
       "        text-align: right;\n",
       "    }\n",
       "</style>\n",
       "<table border=\"1\" class=\"dataframe\">\n",
       "  <thead>\n",
       "    <tr style=\"text-align: right;\">\n",
       "      <th></th>\n",
       "      <th>name</th>\n",
       "      <th>main_category</th>\n",
       "      <th>sub_category</th>\n",
       "      <th>image</th>\n",
       "      <th>link</th>\n",
       "      <th>ratings</th>\n",
       "      <th>no_of_ratings</th>\n",
       "      <th>discount_price</th>\n",
       "      <th>actual_price</th>\n",
       "    </tr>\n",
       "  </thead>\n",
       "  <tbody>\n",
       "    <tr>\n",
       "      <th>15321</th>\n",
       "      <td>AG Adriano Goldschmied Men's Tellis Modern Slim</td>\n",
       "      <td>men's clothing</td>\n",
       "      <td>Jeans</td>\n",
       "      <td>https://m.media-amazon.com/images/I/71l60Lrws-...</td>\n",
       "      <td>https://www.amazon.in/AG-Adriano-Goldschmied-T...</td>\n",
       "      <td>3.55583</td>\n",
       "      <td>29.644498</td>\n",
       "      <td>1576.151566</td>\n",
       "      <td>40495.95</td>\n",
       "    </tr>\n",
       "  </tbody>\n",
       "</table>\n",
       "</div>"
      ],
      "text/plain": [
       "                                                  name   main_category  \\\n",
       "15321  AG Adriano Goldschmied Men's Tellis Modern Slim  men's clothing   \n",
       "\n",
       "      sub_category                                              image  \\\n",
       "15321        Jeans  https://m.media-amazon.com/images/I/71l60Lrws-...   \n",
       "\n",
       "                                                    link  ratings  \\\n",
       "15321  https://www.amazon.in/AG-Adriano-Goldschmied-T...  3.55583   \n",
       "\n",
       "       no_of_ratings  discount_price  actual_price  \n",
       "15321      29.644498     1576.151566      40495.95  "
      ]
     },
     "execution_count": 44,
     "metadata": {},
     "output_type": "execute_result"
    }
   ],
   "source": [
    "df.loc[df['actual_price']==df['actual_price'].max()]"
   ]
  },
  {
   "cell_type": "code",
   "execution_count": 42,
   "metadata": {},
   "outputs": [
    {
     "data": {
      "text/html": [
       "<div>\n",
       "<style scoped>\n",
       "    .dataframe tbody tr th:only-of-type {\n",
       "        vertical-align: middle;\n",
       "    }\n",
       "\n",
       "    .dataframe tbody tr th {\n",
       "        vertical-align: top;\n",
       "    }\n",
       "\n",
       "    .dataframe thead th {\n",
       "        text-align: right;\n",
       "    }\n",
       "</style>\n",
       "<table border=\"1\" class=\"dataframe\">\n",
       "  <thead>\n",
       "    <tr style=\"text-align: right;\">\n",
       "      <th></th>\n",
       "      <th>name</th>\n",
       "      <th>main_category</th>\n",
       "      <th>sub_category</th>\n",
       "      <th>image</th>\n",
       "      <th>link</th>\n",
       "      <th>ratings</th>\n",
       "      <th>no_of_ratings</th>\n",
       "      <th>discount_price</th>\n",
       "      <th>actual_price</th>\n",
       "    </tr>\n",
       "  </thead>\n",
       "  <tbody>\n",
       "    <tr>\n",
       "      <th>8426</th>\n",
       "      <td>Paras Very Durable Jeans Buttons, For Jeans, T...</td>\n",
       "      <td>men's clothing</td>\n",
       "      <td>Jeans</td>\n",
       "      <td>https://m.media-amazon.com/images/I/51WaleWuQp...</td>\n",
       "      <td>https://www.amazon.in/Paras-Durable-Jeans-Butt...</td>\n",
       "      <td>5.0</td>\n",
       "      <td>1.0</td>\n",
       "      <td>99.0</td>\n",
       "      <td>199.0</td>\n",
       "    </tr>\n",
       "  </tbody>\n",
       "</table>\n",
       "</div>"
      ],
      "text/plain": [
       "                                                   name   main_category  \\\n",
       "8426  Paras Very Durable Jeans Buttons, For Jeans, T...  men's clothing   \n",
       "\n",
       "     sub_category                                              image  \\\n",
       "8426        Jeans  https://m.media-amazon.com/images/I/51WaleWuQp...   \n",
       "\n",
       "                                                   link  ratings  \\\n",
       "8426  https://www.amazon.in/Paras-Durable-Jeans-Butt...      5.0   \n",
       "\n",
       "      no_of_ratings  discount_price  actual_price  \n",
       "8426            1.0            99.0         199.0  "
      ]
     },
     "execution_count": 42,
     "metadata": {},
     "output_type": "execute_result"
    }
   ],
   "source": [
    "df.loc[df['actual_price']==df['actual_price'].min()]"
   ]
  },
  {
   "cell_type": "code",
   "execution_count": 45,
   "metadata": {},
   "outputs": [
    {
     "data": {
      "text/html": [
       "<div>\n",
       "<style scoped>\n",
       "    .dataframe tbody tr th:only-of-type {\n",
       "        vertical-align: middle;\n",
       "    }\n",
       "\n",
       "    .dataframe tbody tr th {\n",
       "        vertical-align: top;\n",
       "    }\n",
       "\n",
       "    .dataframe thead th {\n",
       "        text-align: right;\n",
       "    }\n",
       "</style>\n",
       "<table border=\"1\" class=\"dataframe\">\n",
       "  <thead>\n",
       "    <tr style=\"text-align: right;\">\n",
       "      <th></th>\n",
       "      <th>name</th>\n",
       "      <th>main_category</th>\n",
       "      <th>sub_category</th>\n",
       "      <th>image</th>\n",
       "      <th>link</th>\n",
       "      <th>ratings</th>\n",
       "      <th>no_of_ratings</th>\n",
       "      <th>discount_price</th>\n",
       "      <th>actual_price</th>\n",
       "    </tr>\n",
       "  </thead>\n",
       "  <tbody>\n",
       "    <tr>\n",
       "      <th>8426</th>\n",
       "      <td>Paras Very Durable Jeans Buttons, For Jeans, T...</td>\n",
       "      <td>men's clothing</td>\n",
       "      <td>Jeans</td>\n",
       "      <td>https://m.media-amazon.com/images/I/51WaleWuQp...</td>\n",
       "      <td>https://www.amazon.in/Paras-Durable-Jeans-Butt...</td>\n",
       "      <td>5.0</td>\n",
       "      <td>1.0</td>\n",
       "      <td>99.0</td>\n",
       "      <td>199.0</td>\n",
       "    </tr>\n",
       "  </tbody>\n",
       "</table>\n",
       "</div>"
      ],
      "text/plain": [
       "                                                   name   main_category  \\\n",
       "8426  Paras Very Durable Jeans Buttons, For Jeans, T...  men's clothing   \n",
       "\n",
       "     sub_category                                              image  \\\n",
       "8426        Jeans  https://m.media-amazon.com/images/I/51WaleWuQp...   \n",
       "\n",
       "                                                   link  ratings  \\\n",
       "8426  https://www.amazon.in/Paras-Durable-Jeans-Butt...      5.0   \n",
       "\n",
       "      no_of_ratings  discount_price  actual_price  \n",
       "8426            1.0            99.0         199.0  "
      ]
     },
     "execution_count": 45,
     "metadata": {},
     "output_type": "execute_result"
    }
   ],
   "source": [
    "df.loc[df['discount_price']==df['discount_price'].min()]"
   ]
  },
  {
   "cell_type": "code",
   "execution_count": 46,
   "metadata": {},
   "outputs": [
    {
     "name": "stdout",
     "output_type": "stream",
     "text": [
      "                 ratings  no_of_ratings  discount_price  actual_price\n",
      "ratings         1.000000       0.028646        0.030529      0.025567\n",
      "no_of_ratings   0.028646       1.000000       -0.062344     -0.039199\n",
      "discount_price  0.030529      -0.062344        1.000000      0.658567\n",
      "actual_price    0.025567      -0.039199        0.658567      1.000000\n"
     ]
    }
   ],
   "source": [
    "#correlation analysis\n",
    "correlation_matrix=df[['ratings','no_of_ratings','discount_price','actual_price']].corr()\n",
    "print(correlation_matrix)"
   ]
  },
  {
   "cell_type": "code",
   "execution_count": 47,
   "metadata": {},
   "outputs": [
    {
     "data": {
      "text/plain": [
       "<Axes: xlabel='ratings', ylabel='no_of_ratings'>"
      ]
     },
     "execution_count": 47,
     "metadata": {},
     "output_type": "execute_result"
    },
    {
     "data": {
      "image/png": "[encoded data removed]",
      "text/plain": [
       "<Figure size 640x480 with 1 Axes>"
      ]
     },
     "metadata": {},
     "output_type": "display_data"
    }
   ],
   "source": [
    "sns.regplot(x='ratings',y='no_of_ratings',data=df)"
   ]
  },
  {
   "cell_type": "code",
   "execution_count": 48,
   "metadata": {},
   "outputs": [
    {
     "data": {
      "text/plain": [
       "<Axes: xlabel='actual_price', ylabel='discount_price'>"
      ]
     },
     "execution_count": 48,
     "metadata": {},
     "output_type": "execute_result"
    },
    {
     "data": {
      "image/png": "[encoded data removed]",
      "text/plain": [
       "<Figure size 640x480 with 1 Axes>"
      ]
     },
     "metadata": {},
     "output_type": "display_data"
    }
   ],
   "source": [
    "sns.regplot(x='actual_price',y='discount_price',data=df)"
   ]
  },
  {
   "cell_type": "code",
   "execution_count": 49,
   "metadata": {},
   "outputs": [
    {
     "name": "stdout",
     "output_type": "stream",
     "text": [
      "0        50.017247\n",
      "1        49.457882\n",
      "2        76.030412\n",
      "3        72.989996\n",
      "4        67.766942\n",
      "           ...    \n",
      "19195    45.423744\n",
      "19196    10.005003\n",
      "19197    10.005003\n",
      "19198    10.005003\n",
      "19199    10.005003\n",
      "Name: missing_rates, Length: 19200, dtype: float64\n"
     ]
    }
   ],
   "source": [
    "#creating a df of missing_rates based on the column actual_price and discount_price\n",
    "\n",
    "new_df = pd.DataFrame(df)\n",
    "\n",
    "# Calculate the missed rating\n",
    "new_df['missing_rates'] = ((new_df['actual_price'] - new_df['discount_price']) / new_df['actual_price']) * 100\n",
    "\n",
    "# Create a new DataFrame with actual_price and missed_rating\n",
    "missing_rates_df = new_df['missing_rates']\n",
    "\n",
    "print(missing_rates_df)\n"
   ]
  },
  {
   "cell_type": "code",
   "execution_count": 50,
   "metadata": {},
   "outputs": [
    {
     "data": {
      "text/plain": [
       "(19200,)"
      ]
     },
     "execution_count": 50,
     "metadata": {},
     "output_type": "execute_result"
    }
   ],
   "source": [
    "missing_rates_df.shape"
   ]
  },
  {
   "cell_type": "code",
   "execution_count": 51,
   "metadata": {},
   "outputs": [],
   "source": [
    "# Drop the \"image\" and \"link\" columns,actual_price,discount_price\n",
    "new_df = new_df.drop(['image', 'link','discount_price','actual_price'], axis=1)\n"
   ]
  },
  {
   "cell_type": "code",
   "execution_count": 52,
   "metadata": {},
   "outputs": [
    {
     "data": {
      "text/html": [
       "<div>\n",
       "<style scoped>\n",
       "    .dataframe tbody tr th:only-of-type {\n",
       "        vertical-align: middle;\n",
       "    }\n",
       "\n",
       "    .dataframe tbody tr th {\n",
       "        vertical-align: top;\n",
       "    }\n",
       "\n",
       "    .dataframe thead th {\n",
       "        text-align: right;\n",
       "    }\n",
       "</style>\n",
       "<table border=\"1\" class=\"dataframe\">\n",
       "  <thead>\n",
       "    <tr style=\"text-align: right;\">\n",
       "      <th></th>\n",
       "      <th>name</th>\n",
       "      <th>main_category</th>\n",
       "      <th>sub_category</th>\n",
       "      <th>ratings</th>\n",
       "      <th>no_of_ratings</th>\n",
       "      <th>missing_rates</th>\n",
       "    </tr>\n",
       "  </thead>\n",
       "  <tbody>\n",
       "    <tr>\n",
       "      <th>0</th>\n",
       "      <td>Levi's Men's 511 Styled Slim Fit Jeans</td>\n",
       "      <td>men's clothing</td>\n",
       "      <td>Jeans</td>\n",
       "      <td>4.00000</td>\n",
       "      <td>285.000000</td>\n",
       "      <td>50.017247</td>\n",
       "    </tr>\n",
       "    <tr>\n",
       "      <th>1</th>\n",
       "      <td>Urbano Fashion Men's Slim Fit Washed Jeans Str...</td>\n",
       "      <td>men's clothing</td>\n",
       "      <td>Jeans</td>\n",
       "      <td>3.70000</td>\n",
       "      <td>29.644498</td>\n",
       "      <td>49.457882</td>\n",
       "    </tr>\n",
       "    <tr>\n",
       "      <th>2</th>\n",
       "      <td>Ben Martin Men's Relaxed Fit Jeans</td>\n",
       "      <td>men's clothing</td>\n",
       "      <td>Jeans</td>\n",
       "      <td>3.60000</td>\n",
       "      <td>29.644498</td>\n",
       "      <td>76.030412</td>\n",
       "    </tr>\n",
       "    <tr>\n",
       "      <th>3</th>\n",
       "      <td>Spykar Men's Super Skinny Fit Jeans</td>\n",
       "      <td>men's clothing</td>\n",
       "      <td>Jeans</td>\n",
       "      <td>4.20000</td>\n",
       "      <td>13.000000</td>\n",
       "      <td>72.989996</td>\n",
       "    </tr>\n",
       "    <tr>\n",
       "      <th>4</th>\n",
       "      <td>Levi's Men Jeans</td>\n",
       "      <td>men's clothing</td>\n",
       "      <td>Jeans</td>\n",
       "      <td>3.50000</td>\n",
       "      <td>34.000000</td>\n",
       "      <td>67.766942</td>\n",
       "    </tr>\n",
       "    <tr>\n",
       "      <th>...</th>\n",
       "      <td>...</td>\n",
       "      <td>...</td>\n",
       "      <td>...</td>\n",
       "      <td>...</td>\n",
       "      <td>...</td>\n",
       "      <td>...</td>\n",
       "    </tr>\n",
       "    <tr>\n",
       "      <th>19195</th>\n",
       "      <td>Fashionable Mens Slim Fit Denim Jeans</td>\n",
       "      <td>men's clothing</td>\n",
       "      <td>Jeans</td>\n",
       "      <td>3.55583</td>\n",
       "      <td>29.644498</td>\n",
       "      <td>45.423744</td>\n",
       "    </tr>\n",
       "    <tr>\n",
       "      <th>19196</th>\n",
       "      <td>Malik Singh JASBEER Singh MEGA MART Men's Slim...</td>\n",
       "      <td>men's clothing</td>\n",
       "      <td>Jeans</td>\n",
       "      <td>3.55583</td>\n",
       "      <td>29.644498</td>\n",
       "      <td>10.005003</td>\n",
       "    </tr>\n",
       "    <tr>\n",
       "      <th>19197</th>\n",
       "      <td>Regular Fit Jeans Blue</td>\n",
       "      <td>men's clothing</td>\n",
       "      <td>Jeans</td>\n",
       "      <td>3.55583</td>\n",
       "      <td>29.644498</td>\n",
       "      <td>10.005003</td>\n",
       "    </tr>\n",
       "    <tr>\n",
       "      <th>19198</th>\n",
       "      <td>Men's Slim Fit Denim Jeans Blue</td>\n",
       "      <td>men's clothing</td>\n",
       "      <td>Jeans</td>\n",
       "      <td>3.55583</td>\n",
       "      <td>29.644498</td>\n",
       "      <td>10.005003</td>\n",
       "    </tr>\n",
       "    <tr>\n",
       "      <th>19199</th>\n",
       "      <td>Men Navy Blue Solid Slim Fit Jeans</td>\n",
       "      <td>men's clothing</td>\n",
       "      <td>Jeans</td>\n",
       "      <td>3.55583</td>\n",
       "      <td>29.644498</td>\n",
       "      <td>10.005003</td>\n",
       "    </tr>\n",
       "  </tbody>\n",
       "</table>\n",
       "<p>19200 rows × 6 columns</p>\n",
       "</div>"
      ],
      "text/plain": [
       "                                                    name   main_category  \\\n",
       "0                 Levi's Men's 511 Styled Slim Fit Jeans  men's clothing   \n",
       "1      Urbano Fashion Men's Slim Fit Washed Jeans Str...  men's clothing   \n",
       "2                     Ben Martin Men's Relaxed Fit Jeans  men's clothing   \n",
       "3                    Spykar Men's Super Skinny Fit Jeans  men's clothing   \n",
       "4                                       Levi's Men Jeans  men's clothing   \n",
       "...                                                  ...             ...   \n",
       "19195              Fashionable Mens Slim Fit Denim Jeans  men's clothing   \n",
       "19196  Malik Singh JASBEER Singh MEGA MART Men's Slim...  men's clothing   \n",
       "19197                             Regular Fit Jeans Blue  men's clothing   \n",
       "19198                    Men's Slim Fit Denim Jeans Blue  men's clothing   \n",
       "19199                 Men Navy Blue Solid Slim Fit Jeans  men's clothing   \n",
       "\n",
       "      sub_category  ratings  no_of_ratings  missing_rates  \n",
       "0            Jeans  4.00000     285.000000      50.017247  \n",
       "1            Jeans  3.70000      29.644498      49.457882  \n",
       "2            Jeans  3.60000      29.644498      76.030412  \n",
       "3            Jeans  4.20000      13.000000      72.989996  \n",
       "4            Jeans  3.50000      34.000000      67.766942  \n",
       "...            ...      ...            ...            ...  \n",
       "19195        Jeans  3.55583      29.644498      45.423744  \n",
       "19196        Jeans  3.55583      29.644498      10.005003  \n",
       "19197        Jeans  3.55583      29.644498      10.005003  \n",
       "19198        Jeans  3.55583      29.644498      10.005003  \n",
       "19199        Jeans  3.55583      29.644498      10.005003  \n",
       "\n",
       "[19200 rows x 6 columns]"
      ]
     },
     "execution_count": 52,
     "metadata": {},
     "output_type": "execute_result"
    }
   ],
   "source": [
    "new_df"
   ]
  },
  {
   "cell_type": "code",
   "execution_count": 53,
   "metadata": {},
   "outputs": [
    {
     "data": {
      "text/plain": [
       "0                   Levi's Men's 511 Styled Slim Fit Jeans\n",
       "1        Urbano Fashion Men's Slim Fit Washed Jeans Str...\n",
       "2                       Ben Martin Men's Relaxed Fit Jeans\n",
       "3                      Spykar Men's Super Skinny Fit Jeans\n",
       "4                                         Levi's Men Jeans\n",
       "                               ...                        \n",
       "19195                Fashionable Mens Slim Fit Denim Jeans\n",
       "19196    Malik Singh JASBEER Singh MEGA MART Men's Slim...\n",
       "19197                               Regular Fit Jeans Blue\n",
       "19198                      Men's Slim Fit Denim Jeans Blue\n",
       "19199                   Men Navy Blue Solid Slim Fit Jeans\n",
       "Name: name, Length: 19200, dtype: object"
      ]
     },
     "execution_count": 53,
     "metadata": {},
     "output_type": "execute_result"
    }
   ],
   "source": [
    "new_df.name  #extracting the name column from the new dataframe"
   ]
  },
  {
   "cell_type": "code",
   "execution_count": 54,
   "metadata": {},
   "outputs": [],
   "source": [
    "#creating a new_df with manufacturer column\n",
    "new_df1 = pd.DataFrame(new_df)\n",
    "\n",
    "# Convert the 'name' column into a list\n",
    "name_list = new_df1['name'].tolist()\n",
    "\n",
    "# Create a new DataFrame with a \"manufacturer\" column\n",
    "new_data = {\n",
    "    'manufacturer': new_df1['name'].str.split(' ').str[0]\n",
    "}\n",
    "\n",
    "new_df1= pd.concat([new_df1, pd.DataFrame(new_data)], axis=1)\n"
   ]
  },
  {
   "cell_type": "code",
   "execution_count": 55,
   "metadata": {},
   "outputs": [
    {
     "data": {
      "text/html": [
       "<div>\n",
       "<style scoped>\n",
       "    .dataframe tbody tr th:only-of-type {\n",
       "        vertical-align: middle;\n",
       "    }\n",
       "\n",
       "    .dataframe tbody tr th {\n",
       "        vertical-align: top;\n",
       "    }\n",
       "\n",
       "    .dataframe thead th {\n",
       "        text-align: right;\n",
       "    }\n",
       "</style>\n",
       "<table border=\"1\" class=\"dataframe\">\n",
       "  <thead>\n",
       "    <tr style=\"text-align: right;\">\n",
       "      <th></th>\n",
       "      <th>name</th>\n",
       "      <th>main_category</th>\n",
       "      <th>sub_category</th>\n",
       "      <th>ratings</th>\n",
       "      <th>no_of_ratings</th>\n",
       "      <th>missing_rates</th>\n",
       "      <th>manufacturer</th>\n",
       "    </tr>\n",
       "  </thead>\n",
       "  <tbody>\n",
       "    <tr>\n",
       "      <th>0</th>\n",
       "      <td>Levi's Men's 511 Styled Slim Fit Jeans</td>\n",
       "      <td>men's clothing</td>\n",
       "      <td>Jeans</td>\n",
       "      <td>4.0</td>\n",
       "      <td>285.000000</td>\n",
       "      <td>50.017247</td>\n",
       "      <td>Levi's</td>\n",
       "    </tr>\n",
       "    <tr>\n",
       "      <th>1</th>\n",
       "      <td>Urbano Fashion Men's Slim Fit Washed Jeans Str...</td>\n",
       "      <td>men's clothing</td>\n",
       "      <td>Jeans</td>\n",
       "      <td>3.7</td>\n",
       "      <td>29.644498</td>\n",
       "      <td>49.457882</td>\n",
       "      <td>Urbano</td>\n",
       "    </tr>\n",
       "    <tr>\n",
       "      <th>2</th>\n",
       "      <td>Ben Martin Men's Relaxed Fit Jeans</td>\n",
       "      <td>men's clothing</td>\n",
       "      <td>Jeans</td>\n",
       "      <td>3.6</td>\n",
       "      <td>29.644498</td>\n",
       "      <td>76.030412</td>\n",
       "      <td>Ben</td>\n",
       "    </tr>\n",
       "    <tr>\n",
       "      <th>3</th>\n",
       "      <td>Spykar Men's Super Skinny Fit Jeans</td>\n",
       "      <td>men's clothing</td>\n",
       "      <td>Jeans</td>\n",
       "      <td>4.2</td>\n",
       "      <td>13.000000</td>\n",
       "      <td>72.989996</td>\n",
       "      <td>Spykar</td>\n",
       "    </tr>\n",
       "    <tr>\n",
       "      <th>4</th>\n",
       "      <td>Levi's Men Jeans</td>\n",
       "      <td>men's clothing</td>\n",
       "      <td>Jeans</td>\n",
       "      <td>3.5</td>\n",
       "      <td>34.000000</td>\n",
       "      <td>67.766942</td>\n",
       "      <td>Levi's</td>\n",
       "    </tr>\n",
       "  </tbody>\n",
       "</table>\n",
       "</div>"
      ],
      "text/plain": [
       "                                                name   main_category  \\\n",
       "0             Levi's Men's 511 Styled Slim Fit Jeans  men's clothing   \n",
       "1  Urbano Fashion Men's Slim Fit Washed Jeans Str...  men's clothing   \n",
       "2                 Ben Martin Men's Relaxed Fit Jeans  men's clothing   \n",
       "3                Spykar Men's Super Skinny Fit Jeans  men's clothing   \n",
       "4                                   Levi's Men Jeans  men's clothing   \n",
       "\n",
       "  sub_category  ratings  no_of_ratings  missing_rates manufacturer  \n",
       "0        Jeans      4.0     285.000000      50.017247       Levi's  \n",
       "1        Jeans      3.7      29.644498      49.457882       Urbano  \n",
       "2        Jeans      3.6      29.644498      76.030412          Ben  \n",
       "3        Jeans      4.2      13.000000      72.989996       Spykar  \n",
       "4        Jeans      3.5      34.000000      67.766942       Levi's  "
      ]
     },
     "execution_count": 55,
     "metadata": {},
     "output_type": "execute_result"
    }
   ],
   "source": [
    "new_df1.head()"
   ]
  },
  {
   "cell_type": "code",
   "execution_count": 56,
   "metadata": {},
   "outputs": [
    {
     "data": {
      "text/plain": [
       "(19200, 7)"
      ]
     },
     "execution_count": 56,
     "metadata": {},
     "output_type": "execute_result"
    }
   ],
   "source": [
    "new_df1.shape"
   ]
  },
  {
   "cell_type": "code",
   "execution_count": 57,
   "metadata": {},
   "outputs": [
    {
     "name": "stdout",
     "output_type": "stream",
     "text": [
      "<class 'pandas.core.frame.DataFrame'>\n",
      "RangeIndex: 19200 entries, 0 to 19199\n",
      "Data columns (total 7 columns):\n",
      " #   Column         Non-Null Count  Dtype  \n",
      "---  ------         --------------  -----  \n",
      " 0   name           19200 non-null  object \n",
      " 1   main_category  19200 non-null  object \n",
      " 2   sub_category   19200 non-null  object \n",
      " 3   ratings        19200 non-null  float64\n",
      " 4   no_of_ratings  19200 non-null  float64\n",
      " 5   missing_rates  19200 non-null  float64\n",
      " 6   manufacturer   19200 non-null  object \n",
      "dtypes: float64(3), object(4)\n",
      "memory usage: 1.0+ MB\n"
     ]
    }
   ],
   "source": [
    "new_df1.info()"
   ]
  },
  {
   "cell_type": "code",
   "execution_count": 58,
   "metadata": {},
   "outputs": [
    {
     "data": {
      "text/plain": [
       "name             0\n",
       "main_category    0\n",
       "sub_category     0\n",
       "ratings          0\n",
       "no_of_ratings    0\n",
       "missing_rates    0\n",
       "manufacturer     0\n",
       "dtype: int64"
      ]
     },
     "execution_count": 58,
     "metadata": {},
     "output_type": "execute_result"
    }
   ],
   "source": [
    "new_df1.isna().sum()  #checking for the missing values where we can see in the output there are no missing values"
   ]
  },
  {
   "cell_type": "code",
   "execution_count": 59,
   "metadata": {},
   "outputs": [
    {
     "data": {
      "text/html": [
       "<div>\n",
       "<style scoped>\n",
       "    .dataframe tbody tr th:only-of-type {\n",
       "        vertical-align: middle;\n",
       "    }\n",
       "\n",
       "    .dataframe tbody tr th {\n",
       "        vertical-align: top;\n",
       "    }\n",
       "\n",
       "    .dataframe thead th {\n",
       "        text-align: right;\n",
       "    }\n",
       "</style>\n",
       "<table border=\"1\" class=\"dataframe\">\n",
       "  <thead>\n",
       "    <tr style=\"text-align: right;\">\n",
       "      <th></th>\n",
       "      <th>name</th>\n",
       "      <th>main_category</th>\n",
       "      <th>sub_category</th>\n",
       "      <th>image</th>\n",
       "      <th>link</th>\n",
       "      <th>ratings</th>\n",
       "      <th>no_of_ratings</th>\n",
       "      <th>discount_price</th>\n",
       "      <th>actual_price</th>\n",
       "      <th>missing_rates</th>\n",
       "      <th>discount_net_price</th>\n",
       "      <th>discount_percentage</th>\n",
       "    </tr>\n",
       "  </thead>\n",
       "  <tbody>\n",
       "    <tr>\n",
       "      <th>0</th>\n",
       "      <td>Levi's Men's 511 Styled Slim Fit Jeans</td>\n",
       "      <td>men's clothing</td>\n",
       "      <td>Jeans</td>\n",
       "      <td>https://m.media-amazon.com/images/I/61squlDBu2...</td>\n",
       "      <td>https://www.amazon.in/Levis-Mens-Jeans-18298-1...</td>\n",
       "      <td>4.00000</td>\n",
       "      <td>285.000000</td>\n",
       "      <td>1449.000000</td>\n",
       "      <td>2899.00000</td>\n",
       "      <td>50.017247</td>\n",
       "      <td>1450.000000</td>\n",
       "      <td>49.982753</td>\n",
       "    </tr>\n",
       "    <tr>\n",
       "      <th>1</th>\n",
       "      <td>Urbano Fashion Men's Slim Fit Washed Jeans Str...</td>\n",
       "      <td>men's clothing</td>\n",
       "      <td>Jeans</td>\n",
       "      <td>https://m.media-amazon.com/images/I/61EJxytnV5...</td>\n",
       "      <td>https://www.amazon.in/Urbano-Fashion-Mens-Jean...</td>\n",
       "      <td>3.70000</td>\n",
       "      <td>29.644498</td>\n",
       "      <td>606.000000</td>\n",
       "      <td>1199.00000</td>\n",
       "      <td>49.457882</td>\n",
       "      <td>593.000000</td>\n",
       "      <td>50.542118</td>\n",
       "    </tr>\n",
       "    <tr>\n",
       "      <th>2</th>\n",
       "      <td>Ben Martin Men's Relaxed Fit Jeans</td>\n",
       "      <td>men's clothing</td>\n",
       "      <td>Jeans</td>\n",
       "      <td>https://m.media-amazon.com/images/I/616xchp1EC...</td>\n",
       "      <td>https://www.amazon.in/Ben-Martin-Relaxed-BMW-J...</td>\n",
       "      <td>3.60000</td>\n",
       "      <td>29.644498</td>\n",
       "      <td>599.000000</td>\n",
       "      <td>2499.00000</td>\n",
       "      <td>76.030412</td>\n",
       "      <td>1900.000000</td>\n",
       "      <td>23.969588</td>\n",
       "    </tr>\n",
       "    <tr>\n",
       "      <th>3</th>\n",
       "      <td>Spykar Men's Super Skinny Fit Jeans</td>\n",
       "      <td>men's clothing</td>\n",
       "      <td>Jeans</td>\n",
       "      <td>https://m.media-amazon.com/images/I/61x6ta8Dhk...</td>\n",
       "      <td>https://www.amazon.in/Spykar-Super-Skinny-SSYT...</td>\n",
       "      <td>4.20000</td>\n",
       "      <td>13.000000</td>\n",
       "      <td>729.000000</td>\n",
       "      <td>2699.00000</td>\n",
       "      <td>72.989996</td>\n",
       "      <td>1970.000000</td>\n",
       "      <td>27.010004</td>\n",
       "    </tr>\n",
       "    <tr>\n",
       "      <th>4</th>\n",
       "      <td>Levi's Men Jeans</td>\n",
       "      <td>men's clothing</td>\n",
       "      <td>Jeans</td>\n",
       "      <td>https://m.media-amazon.com/images/I/811awEFjbN...</td>\n",
       "      <td>https://www.amazon.in/Levis-Mens-Jeans-18298-1...</td>\n",
       "      <td>3.50000</td>\n",
       "      <td>34.000000</td>\n",
       "      <td>1289.000000</td>\n",
       "      <td>3999.00000</td>\n",
       "      <td>67.766942</td>\n",
       "      <td>2710.000000</td>\n",
       "      <td>32.233058</td>\n",
       "    </tr>\n",
       "    <tr>\n",
       "      <th>...</th>\n",
       "      <td>...</td>\n",
       "      <td>...</td>\n",
       "      <td>...</td>\n",
       "      <td>...</td>\n",
       "      <td>...</td>\n",
       "      <td>...</td>\n",
       "      <td>...</td>\n",
       "      <td>...</td>\n",
       "      <td>...</td>\n",
       "      <td>...</td>\n",
       "      <td>...</td>\n",
       "      <td>...</td>\n",
       "    </tr>\n",
       "    <tr>\n",
       "      <th>19195</th>\n",
       "      <td>Fashionable Mens Slim Fit Denim Jeans</td>\n",
       "      <td>men's clothing</td>\n",
       "      <td>Jeans</td>\n",
       "      <td>https://m.media-amazon.com/images/I/51X0mAF3Zp...</td>\n",
       "      <td>https://www.amazon.in/Fashionable-Mens-Denim-J...</td>\n",
       "      <td>3.55583</td>\n",
       "      <td>29.644498</td>\n",
       "      <td>1576.151566</td>\n",
       "      <td>2887.98037</td>\n",
       "      <td>45.423744</td>\n",
       "      <td>1311.828804</td>\n",
       "      <td>54.576256</td>\n",
       "    </tr>\n",
       "    <tr>\n",
       "      <th>19196</th>\n",
       "      <td>Malik Singh JASBEER Singh MEGA MART Men's Slim...</td>\n",
       "      <td>men's clothing</td>\n",
       "      <td>Jeans</td>\n",
       "      <td>https://m.media-amazon.com/images/I/41J1Q0iwzC...</td>\n",
       "      <td>https://www.amazon.in/Malik-Singh-JASBEER-Deni...</td>\n",
       "      <td>3.55583</td>\n",
       "      <td>29.644498</td>\n",
       "      <td>1799.000000</td>\n",
       "      <td>1999.00000</td>\n",
       "      <td>10.005003</td>\n",
       "      <td>200.000000</td>\n",
       "      <td>89.994997</td>\n",
       "    </tr>\n",
       "    <tr>\n",
       "      <th>19197</th>\n",
       "      <td>Regular Fit Jeans Blue</td>\n",
       "      <td>men's clothing</td>\n",
       "      <td>Jeans</td>\n",
       "      <td>https://m.media-amazon.com/images/I/41fPsqSK1z...</td>\n",
       "      <td>https://www.amazon.in/Generic-Regular-Fit-Jean...</td>\n",
       "      <td>3.55583</td>\n",
       "      <td>29.644498</td>\n",
       "      <td>1799.000000</td>\n",
       "      <td>1999.00000</td>\n",
       "      <td>10.005003</td>\n",
       "      <td>200.000000</td>\n",
       "      <td>89.994997</td>\n",
       "    </tr>\n",
       "    <tr>\n",
       "      <th>19198</th>\n",
       "      <td>Men's Slim Fit Denim Jeans Blue</td>\n",
       "      <td>men's clothing</td>\n",
       "      <td>Jeans</td>\n",
       "      <td>https://m.media-amazon.com/images/I/41J1Q0iwzC...</td>\n",
       "      <td>https://www.amazon.in/Mens-Slim-Denim-Jeans-Bl...</td>\n",
       "      <td>3.55583</td>\n",
       "      <td>29.644498</td>\n",
       "      <td>1799.000000</td>\n",
       "      <td>1999.00000</td>\n",
       "      <td>10.005003</td>\n",
       "      <td>200.000000</td>\n",
       "      <td>89.994997</td>\n",
       "    </tr>\n",
       "    <tr>\n",
       "      <th>19199</th>\n",
       "      <td>Men Navy Blue Solid Slim Fit Jeans</td>\n",
       "      <td>men's clothing</td>\n",
       "      <td>Jeans</td>\n",
       "      <td>https://m.media-amazon.com/images/I/41zpHvVzQ0...</td>\n",
       "      <td>https://www.amazon.in/Navy-Blue-Solid-Slim-Jea...</td>\n",
       "      <td>3.55583</td>\n",
       "      <td>29.644498</td>\n",
       "      <td>1799.000000</td>\n",
       "      <td>1999.00000</td>\n",
       "      <td>10.005003</td>\n",
       "      <td>200.000000</td>\n",
       "      <td>89.994997</td>\n",
       "    </tr>\n",
       "  </tbody>\n",
       "</table>\n",
       "<p>19200 rows × 12 columns</p>\n",
       "</div>"
      ],
      "text/plain": [
       "                                                    name   main_category  \\\n",
       "0                 Levi's Men's 511 Styled Slim Fit Jeans  men's clothing   \n",
       "1      Urbano Fashion Men's Slim Fit Washed Jeans Str...  men's clothing   \n",
       "2                     Ben Martin Men's Relaxed Fit Jeans  men's clothing   \n",
       "3                    Spykar Men's Super Skinny Fit Jeans  men's clothing   \n",
       "4                                       Levi's Men Jeans  men's clothing   \n",
       "...                                                  ...             ...   \n",
       "19195              Fashionable Mens Slim Fit Denim Jeans  men's clothing   \n",
       "19196  Malik Singh JASBEER Singh MEGA MART Men's Slim...  men's clothing   \n",
       "19197                             Regular Fit Jeans Blue  men's clothing   \n",
       "19198                    Men's Slim Fit Denim Jeans Blue  men's clothing   \n",
       "19199                 Men Navy Blue Solid Slim Fit Jeans  men's clothing   \n",
       "\n",
       "      sub_category                                              image  \\\n",
       "0            Jeans  https://m.media-amazon.com/images/I/61squlDBu2...   \n",
       "1            Jeans  https://m.media-amazon.com/images/I/61EJxytnV5...   \n",
       "2            Jeans  https://m.media-amazon.com/images/I/616xchp1EC...   \n",
       "3            Jeans  https://m.media-amazon.com/images/I/61x6ta8Dhk...   \n",
       "4            Jeans  https://m.media-amazon.com/images/I/811awEFjbN...   \n",
       "...            ...                                                ...   \n",
       "19195        Jeans  https://m.media-amazon.com/images/I/51X0mAF3Zp...   \n",
       "19196        Jeans  https://m.media-amazon.com/images/I/41J1Q0iwzC...   \n",
       "19197        Jeans  https://m.media-amazon.com/images/I/41fPsqSK1z...   \n",
       "19198        Jeans  https://m.media-amazon.com/images/I/41J1Q0iwzC...   \n",
       "19199        Jeans  https://m.media-amazon.com/images/I/41zpHvVzQ0...   \n",
       "\n",
       "                                                    link  ratings  \\\n",
       "0      https://www.amazon.in/Levis-Mens-Jeans-18298-1...  4.00000   \n",
       "1      https://www.amazon.in/Urbano-Fashion-Mens-Jean...  3.70000   \n",
       "2      https://www.amazon.in/Ben-Martin-Relaxed-BMW-J...  3.60000   \n",
       "3      https://www.amazon.in/Spykar-Super-Skinny-SSYT...  4.20000   \n",
       "4      https://www.amazon.in/Levis-Mens-Jeans-18298-1...  3.50000   \n",
       "...                                                  ...      ...   \n",
       "19195  https://www.amazon.in/Fashionable-Mens-Denim-J...  3.55583   \n",
       "19196  https://www.amazon.in/Malik-Singh-JASBEER-Deni...  3.55583   \n",
       "19197  https://www.amazon.in/Generic-Regular-Fit-Jean...  3.55583   \n",
       "19198  https://www.amazon.in/Mens-Slim-Denim-Jeans-Bl...  3.55583   \n",
       "19199  https://www.amazon.in/Navy-Blue-Solid-Slim-Jea...  3.55583   \n",
       "\n",
       "       no_of_ratings  discount_price  actual_price  missing_rates  \\\n",
       "0         285.000000     1449.000000    2899.00000      50.017247   \n",
       "1          29.644498      606.000000    1199.00000      49.457882   \n",
       "2          29.644498      599.000000    2499.00000      76.030412   \n",
       "3          13.000000      729.000000    2699.00000      72.989996   \n",
       "4          34.000000     1289.000000    3999.00000      67.766942   \n",
       "...              ...             ...           ...            ...   \n",
       "19195      29.644498     1576.151566    2887.98037      45.423744   \n",
       "19196      29.644498     1799.000000    1999.00000      10.005003   \n",
       "19197      29.644498     1799.000000    1999.00000      10.005003   \n",
       "19198      29.644498     1799.000000    1999.00000      10.005003   \n",
       "19199      29.644498     1799.000000    1999.00000      10.005003   \n",
       "\n",
       "       discount_net_price  discount_percentage  \n",
       "0             1450.000000            49.982753  \n",
       "1              593.000000            50.542118  \n",
       "2             1900.000000            23.969588  \n",
       "3             1970.000000            27.010004  \n",
       "4             2710.000000            32.233058  \n",
       "...                   ...                  ...  \n",
       "19195         1311.828804            54.576256  \n",
       "19196          200.000000            89.994997  \n",
       "19197          200.000000            89.994997  \n",
       "19198          200.000000            89.994997  \n",
       "19199          200.000000            89.994997  \n",
       "\n",
       "[19200 rows x 12 columns]"
      ]
     },
     "execution_count": 59,
     "metadata": {},
     "output_type": "execute_result"
    }
   ],
   "source": [
    "#calculating discount_net_price and discount_percentage\n",
    "new_df2 = pd.DataFrame(df)\n",
    "new_df2['discount_net_price'] = new_df2['actual_price'] - new_df2['discount_price']\n",
    "new_df2['discount_percentage'] = (new_df2['discount_price'] / new_df2['actual_price']) * 100\n",
    "new_df2"
   ]
  },
  {
   "cell_type": "code",
   "execution_count": 60,
   "metadata": {},
   "outputs": [],
   "source": [
    "new_df2['manufacturer'] = new_df1['manufacturer']  # adding the manufacturer column from the old dataframe to the new dataframe"
   ]
  },
  {
   "cell_type": "code",
   "execution_count": 61,
   "metadata": {},
   "outputs": [
    {
     "data": {
      "text/html": [
       "<div>\n",
       "<style scoped>\n",
       "    .dataframe tbody tr th:only-of-type {\n",
       "        vertical-align: middle;\n",
       "    }\n",
       "\n",
       "    .dataframe tbody tr th {\n",
       "        vertical-align: top;\n",
       "    }\n",
       "\n",
       "    .dataframe thead th {\n",
       "        text-align: right;\n",
       "    }\n",
       "</style>\n",
       "<table border=\"1\" class=\"dataframe\">\n",
       "  <thead>\n",
       "    <tr style=\"text-align: right;\">\n",
       "      <th></th>\n",
       "      <th>name</th>\n",
       "      <th>main_category</th>\n",
       "      <th>sub_category</th>\n",
       "      <th>image</th>\n",
       "      <th>link</th>\n",
       "      <th>ratings</th>\n",
       "      <th>no_of_ratings</th>\n",
       "      <th>discount_price</th>\n",
       "      <th>actual_price</th>\n",
       "      <th>missing_rates</th>\n",
       "      <th>discount_net_price</th>\n",
       "      <th>discount_percentage</th>\n",
       "      <th>manufacturer</th>\n",
       "    </tr>\n",
       "  </thead>\n",
       "  <tbody>\n",
       "    <tr>\n",
       "      <th>0</th>\n",
       "      <td>Levi's Men's 511 Styled Slim Fit Jeans</td>\n",
       "      <td>men's clothing</td>\n",
       "      <td>Jeans</td>\n",
       "      <td>https://m.media-amazon.com/images/I/61squlDBu2...</td>\n",
       "      <td>https://www.amazon.in/Levis-Mens-Jeans-18298-1...</td>\n",
       "      <td>4.0</td>\n",
       "      <td>285.000000</td>\n",
       "      <td>1449.0</td>\n",
       "      <td>2899.0</td>\n",
       "      <td>50.017247</td>\n",
       "      <td>1450.0</td>\n",
       "      <td>49.982753</td>\n",
       "      <td>Levi's</td>\n",
       "    </tr>\n",
       "    <tr>\n",
       "      <th>1</th>\n",
       "      <td>Urbano Fashion Men's Slim Fit Washed Jeans Str...</td>\n",
       "      <td>men's clothing</td>\n",
       "      <td>Jeans</td>\n",
       "      <td>https://m.media-amazon.com/images/I/61EJxytnV5...</td>\n",
       "      <td>https://www.amazon.in/Urbano-Fashion-Mens-Jean...</td>\n",
       "      <td>3.7</td>\n",
       "      <td>29.644498</td>\n",
       "      <td>606.0</td>\n",
       "      <td>1199.0</td>\n",
       "      <td>49.457882</td>\n",
       "      <td>593.0</td>\n",
       "      <td>50.542118</td>\n",
       "      <td>Urbano</td>\n",
       "    </tr>\n",
       "  </tbody>\n",
       "</table>\n",
       "</div>"
      ],
      "text/plain": [
       "                                                name   main_category  \\\n",
       "0             Levi's Men's 511 Styled Slim Fit Jeans  men's clothing   \n",
       "1  Urbano Fashion Men's Slim Fit Washed Jeans Str...  men's clothing   \n",
       "\n",
       "  sub_category                                              image  \\\n",
       "0        Jeans  https://m.media-amazon.com/images/I/61squlDBu2...   \n",
       "1        Jeans  https://m.media-amazon.com/images/I/61EJxytnV5...   \n",
       "\n",
       "                                                link  ratings  no_of_ratings  \\\n",
       "0  https://www.amazon.in/Levis-Mens-Jeans-18298-1...      4.0     285.000000   \n",
       "1  https://www.amazon.in/Urbano-Fashion-Mens-Jean...      3.7      29.644498   \n",
       "\n",
       "   discount_price  actual_price  missing_rates  discount_net_price  \\\n",
       "0          1449.0        2899.0      50.017247              1450.0   \n",
       "1           606.0        1199.0      49.457882               593.0   \n",
       "\n",
       "   discount_percentage manufacturer  \n",
       "0            49.982753       Levi's  \n",
       "1            50.542118       Urbano  "
      ]
     },
     "execution_count": 61,
     "metadata": {},
     "output_type": "execute_result"
    }
   ],
   "source": [
    "new_df2.head(2)"
   ]
  },
  {
   "cell_type": "code",
   "execution_count": 62,
   "metadata": {},
   "outputs": [
    {
     "data": {
      "text/plain": [
       "(19200, 13)"
      ]
     },
     "execution_count": 62,
     "metadata": {},
     "output_type": "execute_result"
    }
   ],
   "source": [
    "new_df2.shape"
   ]
  },
  {
   "cell_type": "code",
   "execution_count": 63,
   "metadata": {},
   "outputs": [],
   "source": [
    "new_df3 = new_df2.groupby([\"actual_price\", \"manufacturer\"]).agg({\n",
    "    'discount_net_price': ['sum', 'mean'],\n",
    "    'discount_percentage': ['sum', 'mean']\n",
    "})\n"
   ]
  },
  {
   "cell_type": "code",
   "execution_count": 64,
   "metadata": {},
   "outputs": [
    {
     "data": {
      "text/html": [
       "<div>\n",
       "<style scoped>\n",
       "    .dataframe tbody tr th:only-of-type {\n",
       "        vertical-align: middle;\n",
       "    }\n",
       "\n",
       "    .dataframe tbody tr th {\n",
       "        vertical-align: top;\n",
       "    }\n",
       "\n",
       "    .dataframe thead tr th {\n",
       "        text-align: left;\n",
       "    }\n",
       "\n",
       "    .dataframe thead tr:last-of-type th {\n",
       "        text-align: right;\n",
       "    }\n",
       "</style>\n",
       "<table border=\"1\" class=\"dataframe\">\n",
       "  <thead>\n",
       "    <tr>\n",
       "      <th></th>\n",
       "      <th></th>\n",
       "      <th colspan=\"2\" halign=\"left\">discount_net_price</th>\n",
       "      <th colspan=\"2\" halign=\"left\">discount_percentage</th>\n",
       "    </tr>\n",
       "    <tr>\n",
       "      <th></th>\n",
       "      <th></th>\n",
       "      <th>sum</th>\n",
       "      <th>mean</th>\n",
       "      <th>sum</th>\n",
       "      <th>mean</th>\n",
       "    </tr>\n",
       "    <tr>\n",
       "      <th>actual_price</th>\n",
       "      <th>manufacturer</th>\n",
       "      <th></th>\n",
       "      <th></th>\n",
       "      <th></th>\n",
       "      <th></th>\n",
       "    </tr>\n",
       "  </thead>\n",
       "  <tbody>\n",
       "    <tr>\n",
       "      <th>199.0</th>\n",
       "      <th>Paras</th>\n",
       "      <td>100.0</td>\n",
       "      <td>100.0</td>\n",
       "      <td>49.748744</td>\n",
       "      <td>49.748744</td>\n",
       "    </tr>\n",
       "    <tr>\n",
       "      <th>210.0</th>\n",
       "      <th>1</th>\n",
       "      <td>225.0</td>\n",
       "      <td>75.0</td>\n",
       "      <td>192.857143</td>\n",
       "      <td>64.285714</td>\n",
       "    </tr>\n",
       "    <tr>\n",
       "      <th>220.0</th>\n",
       "      <th>1</th>\n",
       "      <td>150.0</td>\n",
       "      <td>75.0</td>\n",
       "      <td>131.818182</td>\n",
       "      <td>65.909091</td>\n",
       "    </tr>\n",
       "    <tr>\n",
       "      <th>230.0</th>\n",
       "      <th>Naval</th>\n",
       "      <td>190.0</td>\n",
       "      <td>95.0</td>\n",
       "      <td>117.391304</td>\n",
       "      <td>58.695652</td>\n",
       "    </tr>\n",
       "    <tr>\n",
       "      <th>235.0</th>\n",
       "      <th>Naval</th>\n",
       "      <td>100.0</td>\n",
       "      <td>100.0</td>\n",
       "      <td>57.446809</td>\n",
       "      <td>57.446809</td>\n",
       "    </tr>\n",
       "  </tbody>\n",
       "</table>\n",
       "</div>"
      ],
      "text/plain": [
       "                          discount_net_price        discount_percentage  \\\n",
       "                                         sum   mean                 sum   \n",
       "actual_price manufacturer                                                 \n",
       "199.0        Paras                     100.0  100.0           49.748744   \n",
       "210.0        1                         225.0   75.0          192.857143   \n",
       "220.0        1                         150.0   75.0          131.818182   \n",
       "230.0        Naval                     190.0   95.0          117.391304   \n",
       "235.0        Naval                     100.0  100.0           57.446809   \n",
       "\n",
       "                                      \n",
       "                                mean  \n",
       "actual_price manufacturer             \n",
       "199.0        Paras         49.748744  \n",
       "210.0        1             64.285714  \n",
       "220.0        1             65.909091  \n",
       "230.0        Naval         58.695652  \n",
       "235.0        Naval         57.446809  "
      ]
     },
     "execution_count": 64,
     "metadata": {},
     "output_type": "execute_result"
    }
   ],
   "source": [
    "new_df3.head()"
   ]
  },
  {
   "cell_type": "code",
   "execution_count": 65,
   "metadata": {},
   "outputs": [
    {
     "data": {
      "text/plain": [
       "manufacturer\n",
       "\"Jean                  1401.000000\n",
       "$Waheguru              7500.000000\n",
       "0-DEGREE               2183.000000\n",
       "0-Degree               1650.000000\n",
       "1                       120.000000\n",
       "                          ...     \n",
       "spykar                 1918.000000\n",
       "thunder                 410.000000\n",
       "ultimatefashionista     600.000000\n",
       "white                   400.000000\n",
       "|                      1311.828804\n",
       "Name: discount_net_price, Length: 897, dtype: float64"
      ]
     },
     "execution_count": 65,
     "metadata": {},
     "output_type": "execute_result"
    }
   ],
   "source": [
    "# Calculate the maximum discount_net_price for each manufacturer\n",
    "max_discount_by_manufacturer = new_df2.groupby('manufacturer')['discount_net_price'].max()\n",
    "max_discount_by_manufacturer"
   ]
  },
  {
   "cell_type": "code",
   "execution_count": 66,
   "metadata": {},
   "outputs": [
    {
     "name": "stdout",
     "output_type": "stream",
     "text": [
      "The manufacturer with the maximum discount_net_price is 'Jack' with a total of 1915898.3748916942.\n"
     ]
    }
   ],
   "source": [
    "#To know which manufacturer had a max discount_net_price.\n",
    "# Group by 'manufacturer' and sum the 'discount_net_price'\n",
    "manufacturer_discount = new_df2.groupby('manufacturer')['discount_net_price'].sum()\n",
    "\n",
    "# Find the manufacturer with the maximum discount_net_price\n",
    "manufacturer_with_max_discount = manufacturer_discount.idxmax()\n",
    "max_discount_value = manufacturer_discount.max()\n",
    "\n",
    "print(f\"The manufacturer with the maximum discount_net_price is '{manufacturer_with_max_discount}' with a total of {max_discount_value}.\")\n"
   ]
  },
  {
   "cell_type": "code",
   "execution_count": 67,
   "metadata": {},
   "outputs": [
    {
     "data": {
      "text/html": [
       "<div>\n",
       "<style scoped>\n",
       "    .dataframe tbody tr th:only-of-type {\n",
       "        vertical-align: middle;\n",
       "    }\n",
       "\n",
       "    .dataframe tbody tr th {\n",
       "        vertical-align: top;\n",
       "    }\n",
       "\n",
       "    .dataframe thead th {\n",
       "        text-align: right;\n",
       "    }\n",
       "</style>\n",
       "<table border=\"1\" class=\"dataframe\">\n",
       "  <thead>\n",
       "    <tr style=\"text-align: right;\">\n",
       "      <th></th>\n",
       "      <th>name</th>\n",
       "      <th>main_category</th>\n",
       "      <th>sub_category</th>\n",
       "      <th>image</th>\n",
       "      <th>link</th>\n",
       "      <th>ratings</th>\n",
       "      <th>no_of_ratings</th>\n",
       "      <th>discount_price</th>\n",
       "      <th>actual_price</th>\n",
       "      <th>missing_rates</th>\n",
       "      <th>discount_net_price</th>\n",
       "      <th>discount_percentage</th>\n",
       "      <th>manufacturer</th>\n",
       "      <th>customer_satisfaction</th>\n",
       "    </tr>\n",
       "  </thead>\n",
       "  <tbody>\n",
       "    <tr>\n",
       "      <th>0</th>\n",
       "      <td>Levi's Men's 511 Styled Slim Fit Jeans</td>\n",
       "      <td>men's clothing</td>\n",
       "      <td>Jeans</td>\n",
       "      <td>https://m.media-amazon.com/images/I/61squlDBu2...</td>\n",
       "      <td>https://www.amazon.in/Levis-Mens-Jeans-18298-1...</td>\n",
       "      <td>4.0</td>\n",
       "      <td>285.000000</td>\n",
       "      <td>1449.0</td>\n",
       "      <td>2899.0</td>\n",
       "      <td>50.017247</td>\n",
       "      <td>1450.0</td>\n",
       "      <td>49.982753</td>\n",
       "      <td>Levi's</td>\n",
       "      <td>High Satisfaction</td>\n",
       "    </tr>\n",
       "    <tr>\n",
       "      <th>1</th>\n",
       "      <td>Urbano Fashion Men's Slim Fit Washed Jeans Str...</td>\n",
       "      <td>men's clothing</td>\n",
       "      <td>Jeans</td>\n",
       "      <td>https://m.media-amazon.com/images/I/61EJxytnV5...</td>\n",
       "      <td>https://www.amazon.in/Urbano-Fashion-Mens-Jean...</td>\n",
       "      <td>3.7</td>\n",
       "      <td>29.644498</td>\n",
       "      <td>606.0</td>\n",
       "      <td>1199.0</td>\n",
       "      <td>49.457882</td>\n",
       "      <td>593.0</td>\n",
       "      <td>50.542118</td>\n",
       "      <td>Urbano</td>\n",
       "      <td>High Satisfaction</td>\n",
       "    </tr>\n",
       "    <tr>\n",
       "      <th>2</th>\n",
       "      <td>Ben Martin Men's Relaxed Fit Jeans</td>\n",
       "      <td>men's clothing</td>\n",
       "      <td>Jeans</td>\n",
       "      <td>https://m.media-amazon.com/images/I/616xchp1EC...</td>\n",
       "      <td>https://www.amazon.in/Ben-Martin-Relaxed-BMW-J...</td>\n",
       "      <td>3.6</td>\n",
       "      <td>29.644498</td>\n",
       "      <td>599.0</td>\n",
       "      <td>2499.0</td>\n",
       "      <td>76.030412</td>\n",
       "      <td>1900.0</td>\n",
       "      <td>23.969588</td>\n",
       "      <td>Ben</td>\n",
       "      <td>High Satisfaction</td>\n",
       "    </tr>\n",
       "    <tr>\n",
       "      <th>3</th>\n",
       "      <td>Spykar Men's Super Skinny Fit Jeans</td>\n",
       "      <td>men's clothing</td>\n",
       "      <td>Jeans</td>\n",
       "      <td>https://m.media-amazon.com/images/I/61x6ta8Dhk...</td>\n",
       "      <td>https://www.amazon.in/Spykar-Super-Skinny-SSYT...</td>\n",
       "      <td>4.2</td>\n",
       "      <td>13.000000</td>\n",
       "      <td>729.0</td>\n",
       "      <td>2699.0</td>\n",
       "      <td>72.989996</td>\n",
       "      <td>1970.0</td>\n",
       "      <td>27.010004</td>\n",
       "      <td>Spykar</td>\n",
       "      <td>High Satisfaction</td>\n",
       "    </tr>\n",
       "    <tr>\n",
       "      <th>4</th>\n",
       "      <td>Levi's Men Jeans</td>\n",
       "      <td>men's clothing</td>\n",
       "      <td>Jeans</td>\n",
       "      <td>https://m.media-amazon.com/images/I/811awEFjbN...</td>\n",
       "      <td>https://www.amazon.in/Levis-Mens-Jeans-18298-1...</td>\n",
       "      <td>3.5</td>\n",
       "      <td>34.000000</td>\n",
       "      <td>1289.0</td>\n",
       "      <td>3999.0</td>\n",
       "      <td>67.766942</td>\n",
       "      <td>2710.0</td>\n",
       "      <td>32.233058</td>\n",
       "      <td>Levi's</td>\n",
       "      <td>High Satisfaction</td>\n",
       "    </tr>\n",
       "  </tbody>\n",
       "</table>\n",
       "</div>"
      ],
      "text/plain": [
       "                                                name   main_category  \\\n",
       "0             Levi's Men's 511 Styled Slim Fit Jeans  men's clothing   \n",
       "1  Urbano Fashion Men's Slim Fit Washed Jeans Str...  men's clothing   \n",
       "2                 Ben Martin Men's Relaxed Fit Jeans  men's clothing   \n",
       "3                Spykar Men's Super Skinny Fit Jeans  men's clothing   \n",
       "4                                   Levi's Men Jeans  men's clothing   \n",
       "\n",
       "  sub_category                                              image  \\\n",
       "0        Jeans  https://m.media-amazon.com/images/I/61squlDBu2...   \n",
       "1        Jeans  https://m.media-amazon.com/images/I/61EJxytnV5...   \n",
       "2        Jeans  https://m.media-amazon.com/images/I/616xchp1EC...   \n",
       "3        Jeans  https://m.media-amazon.com/images/I/61x6ta8Dhk...   \n",
       "4        Jeans  https://m.media-amazon.com/images/I/811awEFjbN...   \n",
       "\n",
       "                                                link  ratings  no_of_ratings  \\\n",
       "0  https://www.amazon.in/Levis-Mens-Jeans-18298-1...      4.0     285.000000   \n",
       "1  https://www.amazon.in/Urbano-Fashion-Mens-Jean...      3.7      29.644498   \n",
       "2  https://www.amazon.in/Ben-Martin-Relaxed-BMW-J...      3.6      29.644498   \n",
       "3  https://www.amazon.in/Spykar-Super-Skinny-SSYT...      4.2      13.000000   \n",
       "4  https://www.amazon.in/Levis-Mens-Jeans-18298-1...      3.5      34.000000   \n",
       "\n",
       "   discount_price  actual_price  missing_rates  discount_net_price  \\\n",
       "0          1449.0        2899.0      50.017247              1450.0   \n",
       "1           606.0        1199.0      49.457882               593.0   \n",
       "2           599.0        2499.0      76.030412              1900.0   \n",
       "3           729.0        2699.0      72.989996              1970.0   \n",
       "4          1289.0        3999.0      67.766942              2710.0   \n",
       "\n",
       "   discount_percentage manufacturer customer_satisfaction  \n",
       "0            49.982753       Levi's     High Satisfaction  \n",
       "1            50.542118       Urbano     High Satisfaction  \n",
       "2            23.969588          Ben     High Satisfaction  \n",
       "3            27.010004       Spykar     High Satisfaction  \n",
       "4            32.233058       Levi's     High Satisfaction  "
      ]
     },
     "execution_count": 67,
     "metadata": {},
     "output_type": "execute_result"
    }
   ],
   "source": [
    "#to know the customer satisfaction\n",
    "import numpy as np\n",
    "\n",
    "# Define conditions based on the 'ratings' column\n",
    "conditions = [\n",
    "    (new_df2['ratings'] <= 3),      # Low satisfaction\n",
    "    (new_df2['ratings'] > 3)        # High satisfaction\n",
    "]\n",
    "\n",
    "# Define corresponding values for the 'customer_satisfaction' column\n",
    "values = ['Low Satisfaction', 'High Satisfaction']\n",
    "\n",
    "# Create the 'customer_satisfaction' column using np.select()\n",
    "new_df2['customer_satisfaction'] = np.select(conditions, values, default='Unknown')\n",
    "\n",
    "# Display the DataFrame\n",
    "new_df2.head()\n"
   ]
  },
  {
   "cell_type": "code",
   "execution_count": 68,
   "metadata": {},
   "outputs": [
    {
     "data": {
      "text/plain": [
       "0    High Satisfaction\n",
       "Name: customer_satisfaction, dtype: object"
      ]
     },
     "execution_count": 68,
     "metadata": {},
     "output_type": "execute_result"
    }
   ],
   "source": [
    "new_df2['customer_satisfaction'].mode()"
   ]
  },
  {
   "cell_type": "code",
   "execution_count": 69,
   "metadata": {},
   "outputs": [
    {
     "data": {
      "image/png": "[encoded data removed]",
      "text/plain": [
       "<Figure size 640x480 with 1 Axes>"
      ]
     },
     "metadata": {},
     "output_type": "display_data"
    }
   ],
   "source": [
    "# Count the number of customers in each satisfaction category\n",
    "satisfaction_counts = new_df2['customer_satisfaction'].value_counts()\n",
    "\n",
    "# Create a pie chart\n",
    "plt.pie(satisfaction_counts, labels=satisfaction_counts.index, autopct='%1.1f%%', colors=['green', 'red'])\n",
    "plt.title('Customer Satisfaction')\n",
    "plt.show()\n"
   ]
  },
  {
   "cell_type": "code",
   "execution_count": 70,
   "metadata": {},
   "outputs": [
    {
     "name": "stdout",
     "output_type": "stream",
     "text": [
      "The most commonly sold product is 'Men's' with 2173 sales.\n"
     ]
    }
   ],
   "source": [
    "# Use value_counts to count the occurrences of each product\n",
    "product_counts = new_df2['manufacturer'].value_counts()\n",
    "\n",
    "# Find the most commonly sold product\n",
    "most_common_product = product_counts.idxmax()\n",
    "most_common_count = product_counts.max()\n",
    "\n",
    "print(f\"The most commonly sold product is '{most_common_product}' with {most_common_count} sales.\")"
   ]
  },
  {
   "cell_type": "code",
   "execution_count": 71,
   "metadata": {},
   "outputs": [
    {
     "name": "stdout",
     "output_type": "stream",
     "text": [
      "The manufacturer with the second-highest average rating is 'UKZ' with an average rating of 5.0.\n"
     ]
    }
   ],
   "source": [
    "# Group the DataFrame by 'manufacturer' and calculate the average rating for each manufacturer\n",
    "average_ratings = new_df2.groupby('manufacturer')['ratings'].mean()\n",
    "\n",
    "# Sort the average ratings in descending order\n",
    "sorted_average_ratings = average_ratings.sort_values(ascending=False)\n",
    "\n",
    "# Select the manufacturer with the second-highest average rating\n",
    "second_highest_manufacturer = sorted_average_ratings.index[1]\n",
    "second_highest_average_rating = sorted_average_ratings.iloc[1]\n",
    "\n",
    "print(f\"The manufacturer with the second-highest average rating is '{second_highest_manufacturer}' with an average rating of {second_highest_average_rating}.\")\n"
   ]
  },
  {
   "cell_type": "code",
   "execution_count": 72,
   "metadata": {},
   "outputs": [
    {
     "name": "stdout",
     "output_type": "stream",
     "text": [
      "Top 10 most common values:\n",
      "Men's       2173\n",
      "Wrangler    1062\n",
      "Pepe         985\n",
      "Spykar       965\n",
      "U.S.         929\n",
      "Jack         809\n",
      "Lee          673\n",
      "Peter        601\n",
      "American     503\n",
      "Levi's       412\n",
      "Name: manufacturer, dtype: int64\n"
     ]
    }
   ],
   "source": [
    "new_df2 = pd.DataFrame(new_df1)\n",
    "\n",
    "# Get the top 10 most common values in the 'manufacturer' column\n",
    "top_10_values = new_df2['manufacturer'].value_counts().head(10)\n",
    "\n",
    "print(\"Top 10 most common values:\")\n",
    "print(top_10_values)"
   ]
  },
  {
   "cell_type": "code",
   "execution_count": 73,
   "metadata": {},
   "outputs": [
    {
     "data": {
      "image/png": "[encoded data removed]",
      "text/plain": [
       "<Figure size 1000x600 with 1 Axes>"
      ]
     },
     "metadata": {},
     "output_type": "display_data"
    }
   ],
   "source": [
    "\n",
    "\n",
    "# Extracting the names of the manufacturers and their counts\n",
    "manufacturers = top_10_values.index\n",
    "counts = top_10_values.values\n",
    "\n",
    "# Create a bar plot\n",
    "plt.figure(figsize=(10, 6))\n",
    "plt.barh(manufacturers, counts, color='skyblue')\n",
    "plt.xlabel('Count')\n",
    "plt.ylabel('Manufacturer')\n",
    "plt.title('Popular Manufacturer Categories')\n",
    "plt.gca().invert_yaxis()  # Invert the y-axis to display the most common at the top\n",
    "plt.show()\n",
    "\n"
   ]
  },
  {
   "cell_type": "code",
   "execution_count": 80,
   "metadata": {},
   "outputs": [
    {
     "data": {
      "image/png": "[encoded data removed]",
      "text/plain": [
       "<Figure size 1500x1000 with 4 Axes>"
      ]
     },
     "metadata": {},
     "output_type": "display_data"
    }
   ],
   "source": [
    "#overall plot\n",
    "import pandas as pd\n",
    "import matplotlib.pyplot as plt\n",
    "import seaborn as sns\n",
    "\n",
    "# Data analysis and visualization\n",
    "# Histograms/density plots\n",
    "new_df2[['main_category', 'sub_category', 'ratings', 'no_of_ratings','missing_rates', 'manufacturer']].hist(bins=20, figsize=(15,10))\n",
    "plt.show()\n"
   ]
  },
  {
   "cell_type": "code",
   "execution_count": 78,
   "metadata": {},
   "outputs": [
    {
     "name": "stdout",
     "output_type": "stream",
     "text": [
      "Index(['name', 'main_category', 'sub_category', 'ratings', 'no_of_ratings',\n",
      "       'missing_rates', 'manufacturer'],\n",
      "      dtype='object')\n"
     ]
    }
   ],
   "source": [
    "print(new_df2.columns)\n"
   ]
  }
 ],
 "metadata": {
  "kernelspec": {
   "display_name": "Python 3",
   "language": "python",
   "name": "python3"
  },
  "language_info": {
   "codemirror_mode": {
    "name": "ipython",
    "version": 3
   },
   "file_extension": ".py",
   "mimetype": "text/x-python",
   "name": "python",
   "nbconvert_exporter": "python",
   "pygments_lexer": "ipython3",
   "version": "3.11.4"
  }
 },
 "nbformat": 4,
 "nbformat_minor": 2
}
